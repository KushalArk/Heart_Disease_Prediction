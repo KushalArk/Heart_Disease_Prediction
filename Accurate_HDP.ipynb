{
 "cells": [
  {
   "cell_type": "code",
   "execution_count": 1,
   "id": "28a97ec2",
   "metadata": {},
   "outputs": [
    {
     "name": "stdout",
     "output_type": "stream",
     "text": [
      "['.ipynb_checkpoints', 'Accurate_HDP.ipynb', 'heart.csv', 'Heart_disease_prediction.ipynb', 'model_joblib_heart', 'README.md', 'WhatsApp Image 2023-05-18 at 12.48.32 AM.jpeg']\n"
     ]
    }
   ],
   "source": [
    "import numpy as np\n",
    "import pandas as pd\n",
    "import matplotlib.pyplot as plt\n",
    "import seaborn as sns\n",
    "\n",
    "%matplotlib inline\n",
    "\n",
    "import os\n",
    "print(os.listdir())\n",
    "\n",
    "import warnings\n",
    "warnings.filterwarnings('ignore')"
   ]
  },
  {
   "cell_type": "code",
   "execution_count": 2,
   "id": "a8383f17",
   "metadata": {},
   "outputs": [],
   "source": [
    "dataset = pd.read_csv(\"heart.csv\")"
   ]
  },
  {
   "cell_type": "code",
   "execution_count": 3,
   "id": "245e475b",
   "metadata": {},
   "outputs": [
    {
     "data": {
      "text/plain": [
       "pandas.core.frame.DataFrame"
      ]
     },
     "execution_count": 3,
     "metadata": {},
     "output_type": "execute_result"
    }
   ],
   "source": [
    "type(dataset)"
   ]
  },
  {
   "cell_type": "code",
   "execution_count": 4,
   "id": "6a6df064",
   "metadata": {},
   "outputs": [
    {
     "data": {
      "text/plain": [
       "(303, 14)"
      ]
     },
     "execution_count": 4,
     "metadata": {},
     "output_type": "execute_result"
    }
   ],
   "source": [
    "dataset.shape"
   ]
  },
  {
   "cell_type": "code",
   "execution_count": 5,
   "id": "4bd1f110",
   "metadata": {},
   "outputs": [
    {
     "data": {
      "text/html": [
       "<div>\n",
       "<style scoped>\n",
       "    .dataframe tbody tr th:only-of-type {\n",
       "        vertical-align: middle;\n",
       "    }\n",
       "\n",
       "    .dataframe tbody tr th {\n",
       "        vertical-align: top;\n",
       "    }\n",
       "\n",
       "    .dataframe thead th {\n",
       "        text-align: right;\n",
       "    }\n",
       "</style>\n",
       "<table border=\"1\" class=\"dataframe\">\n",
       "  <thead>\n",
       "    <tr style=\"text-align: right;\">\n",
       "      <th></th>\n",
       "      <th>age</th>\n",
       "      <th>sex</th>\n",
       "      <th>cp</th>\n",
       "      <th>trestbps</th>\n",
       "      <th>chol</th>\n",
       "      <th>fbs</th>\n",
       "      <th>restecg</th>\n",
       "      <th>thalach</th>\n",
       "      <th>exang</th>\n",
       "      <th>oldpeak</th>\n",
       "      <th>slope</th>\n",
       "      <th>ca</th>\n",
       "      <th>thal</th>\n",
       "      <th>target</th>\n",
       "    </tr>\n",
       "  </thead>\n",
       "  <tbody>\n",
       "    <tr>\n",
       "      <th>0</th>\n",
       "      <td>63</td>\n",
       "      <td>1</td>\n",
       "      <td>3</td>\n",
       "      <td>145</td>\n",
       "      <td>233</td>\n",
       "      <td>1</td>\n",
       "      <td>0</td>\n",
       "      <td>150</td>\n",
       "      <td>0</td>\n",
       "      <td>2.3</td>\n",
       "      <td>0</td>\n",
       "      <td>0</td>\n",
       "      <td>1</td>\n",
       "      <td>1</td>\n",
       "    </tr>\n",
       "    <tr>\n",
       "      <th>1</th>\n",
       "      <td>37</td>\n",
       "      <td>1</td>\n",
       "      <td>2</td>\n",
       "      <td>130</td>\n",
       "      <td>250</td>\n",
       "      <td>0</td>\n",
       "      <td>1</td>\n",
       "      <td>187</td>\n",
       "      <td>0</td>\n",
       "      <td>3.5</td>\n",
       "      <td>0</td>\n",
       "      <td>0</td>\n",
       "      <td>2</td>\n",
       "      <td>1</td>\n",
       "    </tr>\n",
       "    <tr>\n",
       "      <th>2</th>\n",
       "      <td>41</td>\n",
       "      <td>0</td>\n",
       "      <td>1</td>\n",
       "      <td>130</td>\n",
       "      <td>204</td>\n",
       "      <td>0</td>\n",
       "      <td>0</td>\n",
       "      <td>172</td>\n",
       "      <td>0</td>\n",
       "      <td>1.4</td>\n",
       "      <td>2</td>\n",
       "      <td>0</td>\n",
       "      <td>2</td>\n",
       "      <td>1</td>\n",
       "    </tr>\n",
       "    <tr>\n",
       "      <th>3</th>\n",
       "      <td>56</td>\n",
       "      <td>1</td>\n",
       "      <td>1</td>\n",
       "      <td>120</td>\n",
       "      <td>236</td>\n",
       "      <td>0</td>\n",
       "      <td>1</td>\n",
       "      <td>178</td>\n",
       "      <td>0</td>\n",
       "      <td>0.8</td>\n",
       "      <td>2</td>\n",
       "      <td>0</td>\n",
       "      <td>2</td>\n",
       "      <td>1</td>\n",
       "    </tr>\n",
       "    <tr>\n",
       "      <th>4</th>\n",
       "      <td>57</td>\n",
       "      <td>0</td>\n",
       "      <td>0</td>\n",
       "      <td>120</td>\n",
       "      <td>354</td>\n",
       "      <td>0</td>\n",
       "      <td>1</td>\n",
       "      <td>163</td>\n",
       "      <td>1</td>\n",
       "      <td>0.6</td>\n",
       "      <td>2</td>\n",
       "      <td>0</td>\n",
       "      <td>2</td>\n",
       "      <td>1</td>\n",
       "    </tr>\n",
       "  </tbody>\n",
       "</table>\n",
       "</div>"
      ],
      "text/plain": [
       "   age  sex  cp  trestbps  chol  fbs  restecg  thalach  exang  oldpeak  slope  \\\n",
       "0   63    1   3       145   233    1        0      150      0      2.3      0   \n",
       "1   37    1   2       130   250    0        1      187      0      3.5      0   \n",
       "2   41    0   1       130   204    0        0      172      0      1.4      2   \n",
       "3   56    1   1       120   236    0        1      178      0      0.8      2   \n",
       "4   57    0   0       120   354    0        1      163      1      0.6      2   \n",
       "\n",
       "   ca  thal  target  \n",
       "0   0     1       1  \n",
       "1   0     2       1  \n",
       "2   0     2       1  \n",
       "3   0     2       1  \n",
       "4   0     2       1  "
      ]
     },
     "execution_count": 5,
     "metadata": {},
     "output_type": "execute_result"
    }
   ],
   "source": [
    "dataset.head(5)"
   ]
  },
  {
   "cell_type": "code",
   "execution_count": 6,
   "id": "a6824a55",
   "metadata": {},
   "outputs": [
    {
     "data": {
      "text/html": [
       "<div>\n",
       "<style scoped>\n",
       "    .dataframe tbody tr th:only-of-type {\n",
       "        vertical-align: middle;\n",
       "    }\n",
       "\n",
       "    .dataframe tbody tr th {\n",
       "        vertical-align: top;\n",
       "    }\n",
       "\n",
       "    .dataframe thead th {\n",
       "        text-align: right;\n",
       "    }\n",
       "</style>\n",
       "<table border=\"1\" class=\"dataframe\">\n",
       "  <thead>\n",
       "    <tr style=\"text-align: right;\">\n",
       "      <th></th>\n",
       "      <th>age</th>\n",
       "      <th>sex</th>\n",
       "      <th>cp</th>\n",
       "      <th>trestbps</th>\n",
       "      <th>chol</th>\n",
       "      <th>fbs</th>\n",
       "      <th>restecg</th>\n",
       "      <th>thalach</th>\n",
       "      <th>exang</th>\n",
       "      <th>oldpeak</th>\n",
       "      <th>slope</th>\n",
       "      <th>ca</th>\n",
       "      <th>thal</th>\n",
       "      <th>target</th>\n",
       "    </tr>\n",
       "  </thead>\n",
       "  <tbody>\n",
       "    <tr>\n",
       "      <th>90</th>\n",
       "      <td>48</td>\n",
       "      <td>1</td>\n",
       "      <td>2</td>\n",
       "      <td>124</td>\n",
       "      <td>255</td>\n",
       "      <td>1</td>\n",
       "      <td>1</td>\n",
       "      <td>175</td>\n",
       "      <td>0</td>\n",
       "      <td>0.0</td>\n",
       "      <td>2</td>\n",
       "      <td>2</td>\n",
       "      <td>2</td>\n",
       "      <td>1</td>\n",
       "    </tr>\n",
       "    <tr>\n",
       "      <th>282</th>\n",
       "      <td>59</td>\n",
       "      <td>1</td>\n",
       "      <td>2</td>\n",
       "      <td>126</td>\n",
       "      <td>218</td>\n",
       "      <td>1</td>\n",
       "      <td>1</td>\n",
       "      <td>134</td>\n",
       "      <td>0</td>\n",
       "      <td>2.2</td>\n",
       "      <td>1</td>\n",
       "      <td>1</td>\n",
       "      <td>1</td>\n",
       "      <td>0</td>\n",
       "    </tr>\n",
       "    <tr>\n",
       "      <th>239</th>\n",
       "      <td>35</td>\n",
       "      <td>1</td>\n",
       "      <td>0</td>\n",
       "      <td>126</td>\n",
       "      <td>282</td>\n",
       "      <td>0</td>\n",
       "      <td>0</td>\n",
       "      <td>156</td>\n",
       "      <td>1</td>\n",
       "      <td>0.0</td>\n",
       "      <td>2</td>\n",
       "      <td>0</td>\n",
       "      <td>3</td>\n",
       "      <td>0</td>\n",
       "    </tr>\n",
       "    <tr>\n",
       "      <th>183</th>\n",
       "      <td>58</td>\n",
       "      <td>1</td>\n",
       "      <td>2</td>\n",
       "      <td>112</td>\n",
       "      <td>230</td>\n",
       "      <td>0</td>\n",
       "      <td>0</td>\n",
       "      <td>165</td>\n",
       "      <td>0</td>\n",
       "      <td>2.5</td>\n",
       "      <td>1</td>\n",
       "      <td>1</td>\n",
       "      <td>3</td>\n",
       "      <td>0</td>\n",
       "    </tr>\n",
       "    <tr>\n",
       "      <th>113</th>\n",
       "      <td>43</td>\n",
       "      <td>1</td>\n",
       "      <td>0</td>\n",
       "      <td>110</td>\n",
       "      <td>211</td>\n",
       "      <td>0</td>\n",
       "      <td>1</td>\n",
       "      <td>161</td>\n",
       "      <td>0</td>\n",
       "      <td>0.0</td>\n",
       "      <td>2</td>\n",
       "      <td>0</td>\n",
       "      <td>3</td>\n",
       "      <td>1</td>\n",
       "    </tr>\n",
       "  </tbody>\n",
       "</table>\n",
       "</div>"
      ],
      "text/plain": [
       "     age  sex  cp  trestbps  chol  fbs  restecg  thalach  exang  oldpeak  \\\n",
       "90    48    1   2       124   255    1        1      175      0      0.0   \n",
       "282   59    1   2       126   218    1        1      134      0      2.2   \n",
       "239   35    1   0       126   282    0        0      156      1      0.0   \n",
       "183   58    1   2       112   230    0        0      165      0      2.5   \n",
       "113   43    1   0       110   211    0        1      161      0      0.0   \n",
       "\n",
       "     slope  ca  thal  target  \n",
       "90       2   2     2       1  \n",
       "282      1   1     1       0  \n",
       "239      2   0     3       0  \n",
       "183      1   1     3       0  \n",
       "113      2   0     3       1  "
      ]
     },
     "execution_count": 6,
     "metadata": {},
     "output_type": "execute_result"
    }
   ],
   "source": [
    "dataset.sample(5)"
   ]
  },
  {
   "cell_type": "code",
   "execution_count": 7,
   "id": "567a31dd",
   "metadata": {},
   "outputs": [
    {
     "data": {
      "text/html": [
       "<div>\n",
       "<style scoped>\n",
       "    .dataframe tbody tr th:only-of-type {\n",
       "        vertical-align: middle;\n",
       "    }\n",
       "\n",
       "    .dataframe tbody tr th {\n",
       "        vertical-align: top;\n",
       "    }\n",
       "\n",
       "    .dataframe thead th {\n",
       "        text-align: right;\n",
       "    }\n",
       "</style>\n",
       "<table border=\"1\" class=\"dataframe\">\n",
       "  <thead>\n",
       "    <tr style=\"text-align: right;\">\n",
       "      <th></th>\n",
       "      <th>age</th>\n",
       "      <th>sex</th>\n",
       "      <th>cp</th>\n",
       "      <th>trestbps</th>\n",
       "      <th>chol</th>\n",
       "      <th>fbs</th>\n",
       "      <th>restecg</th>\n",
       "      <th>thalach</th>\n",
       "      <th>exang</th>\n",
       "      <th>oldpeak</th>\n",
       "      <th>slope</th>\n",
       "      <th>ca</th>\n",
       "      <th>thal</th>\n",
       "      <th>target</th>\n",
       "    </tr>\n",
       "  </thead>\n",
       "  <tbody>\n",
       "    <tr>\n",
       "      <th>count</th>\n",
       "      <td>303.000000</td>\n",
       "      <td>303.000000</td>\n",
       "      <td>303.000000</td>\n",
       "      <td>303.000000</td>\n",
       "      <td>303.000000</td>\n",
       "      <td>303.000000</td>\n",
       "      <td>303.000000</td>\n",
       "      <td>303.000000</td>\n",
       "      <td>303.000000</td>\n",
       "      <td>303.000000</td>\n",
       "      <td>303.000000</td>\n",
       "      <td>303.000000</td>\n",
       "      <td>303.000000</td>\n",
       "      <td>303.000000</td>\n",
       "    </tr>\n",
       "    <tr>\n",
       "      <th>mean</th>\n",
       "      <td>54.366337</td>\n",
       "      <td>0.683168</td>\n",
       "      <td>0.966997</td>\n",
       "      <td>131.623762</td>\n",
       "      <td>246.264026</td>\n",
       "      <td>0.148515</td>\n",
       "      <td>0.528053</td>\n",
       "      <td>149.646865</td>\n",
       "      <td>0.326733</td>\n",
       "      <td>1.039604</td>\n",
       "      <td>1.399340</td>\n",
       "      <td>0.729373</td>\n",
       "      <td>2.313531</td>\n",
       "      <td>0.544554</td>\n",
       "    </tr>\n",
       "    <tr>\n",
       "      <th>std</th>\n",
       "      <td>9.082101</td>\n",
       "      <td>0.466011</td>\n",
       "      <td>1.032052</td>\n",
       "      <td>17.538143</td>\n",
       "      <td>51.830751</td>\n",
       "      <td>0.356198</td>\n",
       "      <td>0.525860</td>\n",
       "      <td>22.905161</td>\n",
       "      <td>0.469794</td>\n",
       "      <td>1.161075</td>\n",
       "      <td>0.616226</td>\n",
       "      <td>1.022606</td>\n",
       "      <td>0.612277</td>\n",
       "      <td>0.498835</td>\n",
       "    </tr>\n",
       "    <tr>\n",
       "      <th>min</th>\n",
       "      <td>29.000000</td>\n",
       "      <td>0.000000</td>\n",
       "      <td>0.000000</td>\n",
       "      <td>94.000000</td>\n",
       "      <td>126.000000</td>\n",
       "      <td>0.000000</td>\n",
       "      <td>0.000000</td>\n",
       "      <td>71.000000</td>\n",
       "      <td>0.000000</td>\n",
       "      <td>0.000000</td>\n",
       "      <td>0.000000</td>\n",
       "      <td>0.000000</td>\n",
       "      <td>0.000000</td>\n",
       "      <td>0.000000</td>\n",
       "    </tr>\n",
       "    <tr>\n",
       "      <th>25%</th>\n",
       "      <td>47.500000</td>\n",
       "      <td>0.000000</td>\n",
       "      <td>0.000000</td>\n",
       "      <td>120.000000</td>\n",
       "      <td>211.000000</td>\n",
       "      <td>0.000000</td>\n",
       "      <td>0.000000</td>\n",
       "      <td>133.500000</td>\n",
       "      <td>0.000000</td>\n",
       "      <td>0.000000</td>\n",
       "      <td>1.000000</td>\n",
       "      <td>0.000000</td>\n",
       "      <td>2.000000</td>\n",
       "      <td>0.000000</td>\n",
       "    </tr>\n",
       "    <tr>\n",
       "      <th>50%</th>\n",
       "      <td>55.000000</td>\n",
       "      <td>1.000000</td>\n",
       "      <td>1.000000</td>\n",
       "      <td>130.000000</td>\n",
       "      <td>240.000000</td>\n",
       "      <td>0.000000</td>\n",
       "      <td>1.000000</td>\n",
       "      <td>153.000000</td>\n",
       "      <td>0.000000</td>\n",
       "      <td>0.800000</td>\n",
       "      <td>1.000000</td>\n",
       "      <td>0.000000</td>\n",
       "      <td>2.000000</td>\n",
       "      <td>1.000000</td>\n",
       "    </tr>\n",
       "    <tr>\n",
       "      <th>75%</th>\n",
       "      <td>61.000000</td>\n",
       "      <td>1.000000</td>\n",
       "      <td>2.000000</td>\n",
       "      <td>140.000000</td>\n",
       "      <td>274.500000</td>\n",
       "      <td>0.000000</td>\n",
       "      <td>1.000000</td>\n",
       "      <td>166.000000</td>\n",
       "      <td>1.000000</td>\n",
       "      <td>1.600000</td>\n",
       "      <td>2.000000</td>\n",
       "      <td>1.000000</td>\n",
       "      <td>3.000000</td>\n",
       "      <td>1.000000</td>\n",
       "    </tr>\n",
       "    <tr>\n",
       "      <th>max</th>\n",
       "      <td>77.000000</td>\n",
       "      <td>1.000000</td>\n",
       "      <td>3.000000</td>\n",
       "      <td>200.000000</td>\n",
       "      <td>564.000000</td>\n",
       "      <td>1.000000</td>\n",
       "      <td>2.000000</td>\n",
       "      <td>202.000000</td>\n",
       "      <td>1.000000</td>\n",
       "      <td>6.200000</td>\n",
       "      <td>2.000000</td>\n",
       "      <td>4.000000</td>\n",
       "      <td>3.000000</td>\n",
       "      <td>1.000000</td>\n",
       "    </tr>\n",
       "  </tbody>\n",
       "</table>\n",
       "</div>"
      ],
      "text/plain": [
       "              age         sex          cp    trestbps        chol         fbs  \\\n",
       "count  303.000000  303.000000  303.000000  303.000000  303.000000  303.000000   \n",
       "mean    54.366337    0.683168    0.966997  131.623762  246.264026    0.148515   \n",
       "std      9.082101    0.466011    1.032052   17.538143   51.830751    0.356198   \n",
       "min     29.000000    0.000000    0.000000   94.000000  126.000000    0.000000   \n",
       "25%     47.500000    0.000000    0.000000  120.000000  211.000000    0.000000   \n",
       "50%     55.000000    1.000000    1.000000  130.000000  240.000000    0.000000   \n",
       "75%     61.000000    1.000000    2.000000  140.000000  274.500000    0.000000   \n",
       "max     77.000000    1.000000    3.000000  200.000000  564.000000    1.000000   \n",
       "\n",
       "          restecg     thalach       exang     oldpeak       slope          ca  \\\n",
       "count  303.000000  303.000000  303.000000  303.000000  303.000000  303.000000   \n",
       "mean     0.528053  149.646865    0.326733    1.039604    1.399340    0.729373   \n",
       "std      0.525860   22.905161    0.469794    1.161075    0.616226    1.022606   \n",
       "min      0.000000   71.000000    0.000000    0.000000    0.000000    0.000000   \n",
       "25%      0.000000  133.500000    0.000000    0.000000    1.000000    0.000000   \n",
       "50%      1.000000  153.000000    0.000000    0.800000    1.000000    0.000000   \n",
       "75%      1.000000  166.000000    1.000000    1.600000    2.000000    1.000000   \n",
       "max      2.000000  202.000000    1.000000    6.200000    2.000000    4.000000   \n",
       "\n",
       "             thal      target  \n",
       "count  303.000000  303.000000  \n",
       "mean     2.313531    0.544554  \n",
       "std      0.612277    0.498835  \n",
       "min      0.000000    0.000000  \n",
       "25%      2.000000    0.000000  \n",
       "50%      2.000000    1.000000  \n",
       "75%      3.000000    1.000000  \n",
       "max      3.000000    1.000000  "
      ]
     },
     "execution_count": 7,
     "metadata": {},
     "output_type": "execute_result"
    }
   ],
   "source": [
    "dataset.describe()"
   ]
  },
  {
   "cell_type": "code",
   "execution_count": 8,
   "id": "15dd635b",
   "metadata": {},
   "outputs": [
    {
     "name": "stdout",
     "output_type": "stream",
     "text": [
      "<class 'pandas.core.frame.DataFrame'>\n",
      "RangeIndex: 303 entries, 0 to 302\n",
      "Data columns (total 14 columns):\n",
      " #   Column    Non-Null Count  Dtype  \n",
      "---  ------    --------------  -----  \n",
      " 0   age       303 non-null    int64  \n",
      " 1   sex       303 non-null    int64  \n",
      " 2   cp        303 non-null    int64  \n",
      " 3   trestbps  303 non-null    int64  \n",
      " 4   chol      303 non-null    int64  \n",
      " 5   fbs       303 non-null    int64  \n",
      " 6   restecg   303 non-null    int64  \n",
      " 7   thalach   303 non-null    int64  \n",
      " 8   exang     303 non-null    int64  \n",
      " 9   oldpeak   303 non-null    float64\n",
      " 10  slope     303 non-null    int64  \n",
      " 11  ca        303 non-null    int64  \n",
      " 12  thal      303 non-null    int64  \n",
      " 13  target    303 non-null    int64  \n",
      "dtypes: float64(1), int64(13)\n",
      "memory usage: 33.3 KB\n"
     ]
    }
   ],
   "source": [
    "dataset.info()"
   ]
  },
  {
   "cell_type": "code",
   "execution_count": 9,
   "id": "590666aa",
   "metadata": {},
   "outputs": [],
   "source": [
    "###Luckily, we have no missing values"
   ]
  },
  {
   "cell_type": "code",
   "execution_count": 10,
   "id": "338ee364",
   "metadata": {},
   "outputs": [
    {
     "name": "stdout",
     "output_type": "stream",
     "text": [
      "age:\t\t\tage\n",
      "sex:\t\t\t1: male, 0: female\n",
      "cp:\t\t\tchest pain type, 1: typical angina, 2: atypical angina, 3: non-anginal pain, 4: asymptomatic\n",
      "trestbps:\t\t\tresting blood pressure\n",
      "chol:\t\t\t serum cholestoral in mg/dl\n",
      "fbs:\t\t\tfasting blood sugar > 120 mg/dl\n",
      "restecg:\t\t\tresting electrocardiographic results (values 0,1,2)\n",
      "thalach:\t\t\t maximum heart rate achieved\n",
      "exang:\t\t\texercise induced angina\n",
      "oldpeak:\t\t\toldpeak = ST depression induced by exercise relative to rest\n",
      "slope:\t\t\tthe slope of the peak exercise ST segment\n",
      "ca:\t\t\tnumber of major vessels (0-3) colored by flourosopy\n",
      "thal:\t\t\tthal: 3 = normal; 6 = fixed defect; 7 = reversable defect\n"
     ]
    }
   ],
   "source": [
    "info = [\"age\",\"1: male, 0: female\",\"chest pain type, 1: typical angina, 2: atypical angina, 3: non-anginal pain, 4: asymptomatic\",\"resting blood pressure\",\" serum cholestoral in mg/dl\",\"fasting blood sugar > 120 mg/dl\",\"resting electrocardiographic results (values 0,1,2)\",\" maximum heart rate achieved\",\"exercise induced angina\",\"oldpeak = ST depression induced by exercise relative to rest\",\"the slope of the peak exercise ST segment\",\"number of major vessels (0-3) colored by flourosopy\",\"thal: 3 = normal; 6 = fixed defect; 7 = reversable defect\"]\n",
    "\n",
    "\n",
    "\n",
    "for i in range(len(info)):\n",
    "    print(dataset.columns[i]+\":\\t\\t\\t\"+info[i])"
   ]
  },
  {
   "cell_type": "code",
   "execution_count": 11,
   "id": "c6eac486",
   "metadata": {},
   "outputs": [
    {
     "data": {
      "text/plain": [
       "count    303.000000\n",
       "mean       0.544554\n",
       "std        0.498835\n",
       "min        0.000000\n",
       "25%        0.000000\n",
       "50%        1.000000\n",
       "75%        1.000000\n",
       "max        1.000000\n",
       "Name: target, dtype: float64"
      ]
     },
     "execution_count": 11,
     "metadata": {},
     "output_type": "execute_result"
    }
   ],
   "source": [
    "dataset[\"target\"].describe()"
   ]
  },
  {
   "cell_type": "code",
   "execution_count": 12,
   "id": "d25d852e",
   "metadata": {},
   "outputs": [
    {
     "data": {
      "text/plain": [
       "array([1, 0], dtype=int64)"
      ]
     },
     "execution_count": 12,
     "metadata": {},
     "output_type": "execute_result"
    }
   ],
   "source": [
    "dataset[\"target\"].unique()"
   ]
  },
  {
   "cell_type": "code",
   "execution_count": 13,
   "id": "82977efe",
   "metadata": {},
   "outputs": [
    {
     "name": "stdout",
     "output_type": "stream",
     "text": [
      "target      1.000000\n",
      "exang       0.436757\n",
      "cp          0.433798\n",
      "oldpeak     0.430696\n",
      "thalach     0.421741\n",
      "ca          0.391724\n",
      "slope       0.345877\n",
      "thal        0.344029\n",
      "sex         0.280937\n",
      "age         0.225439\n",
      "trestbps    0.144931\n",
      "restecg     0.137230\n",
      "chol        0.085239\n",
      "fbs         0.028046\n",
      "Name: target, dtype: float64\n"
     ]
    }
   ],
   "source": [
    "print(dataset.corr()[\"target\"].abs().sort_values(ascending=False))"
   ]
  },
  {
   "cell_type": "code",
   "execution_count": 14,
   "id": "2c2662ed",
   "metadata": {},
   "outputs": [],
   "source": [
    "#This shows that most columns are moderately correlated with target, but 'fbs' is very weakly correlated."
   ]
  },
  {
   "cell_type": "code",
   "execution_count": 15,
   "id": "dc0d3933",
   "metadata": {},
   "outputs": [
    {
     "name": "stdout",
     "output_type": "stream",
     "text": [
      "1    165\n",
      "0    138\n",
      "Name: target, dtype: int64\n"
     ]
    },
    {
     "data": {
      "image/png": "[encoded data removed]",
      "text/plain": [
       "<Figure size 640x480 with 1 Axes>"
      ]
     },
     "metadata": {},
     "output_type": "display_data"
    }
   ],
   "source": [
    "y = dataset[\"target\"]\n",
    "\n",
    "sns.countplot(y)\n",
    "\n",
    "\n",
    "target_temp = dataset.target.value_counts()\n",
    "\n",
    "print(target_temp)"
   ]
  },
  {
   "cell_type": "code",
   "execution_count": 16,
   "id": "f3edefaf",
   "metadata": {},
   "outputs": [
    {
     "name": "stdout",
     "output_type": "stream",
     "text": [
      "Percentage of patience without heart problems: 45.54\n",
      "Percentage of patience with heart problems: 54.46\n"
     ]
    }
   ],
   "source": [
    "print(\"Percentage of patience without heart problems: \"+str(round(target_temp[0]*100/303,2)))\n",
    "print(\"Percentage of patience with heart problems: \"+str(round(target_temp[1]*100/303,2)))\n",
    "\n",
    "#Alternatively,\n",
    "# print(\"Percentage of patience with heart problems: \"+str(y.where(y==1).count()*100/303))\n",
    "# print(\"Percentage of patience with heart problems: \"+str(y.where(y==0).count()*100/303))\n",
    "\n",
    "# #Or,\n",
    "# countNoDisease = len(df[df.target == 0])\n",
    "# countHaveDisease = len(df[df.target == 1])"
   ]
  },
  {
   "cell_type": "code",
   "execution_count": 17,
   "id": "221ea5fd",
   "metadata": {},
   "outputs": [
    {
     "data": {
      "text/plain": [
       "array([1, 0], dtype=int64)"
      ]
     },
     "execution_count": 17,
     "metadata": {},
     "output_type": "execute_result"
    }
   ],
   "source": [
    "dataset[\"sex\"].unique()"
   ]
  },
  {
   "cell_type": "code",
   "execution_count": 18,
   "id": "ac516ae7",
   "metadata": {},
   "outputs": [
    {
     "data": {
      "text/plain": [
       "array([3, 2, 1, 0], dtype=int64)"
      ]
     },
     "execution_count": 18,
     "metadata": {},
     "output_type": "execute_result"
    }
   ],
   "source": [
    "dataset[\"cp\"].unique()"
   ]
  },
  {
   "cell_type": "code",
   "execution_count": 19,
   "id": "ccf17c32",
   "metadata": {},
   "outputs": [
    {
     "data": {
      "text/plain": [
       "count    303.000000\n",
       "mean       0.148515\n",
       "std        0.356198\n",
       "min        0.000000\n",
       "25%        0.000000\n",
       "50%        0.000000\n",
       "75%        0.000000\n",
       "max        1.000000\n",
       "Name: fbs, dtype: float64"
      ]
     },
     "execution_count": 19,
     "metadata": {},
     "output_type": "execute_result"
    }
   ],
   "source": [
    "dataset[\"fbs\"].describe()"
   ]
  },
  {
   "cell_type": "code",
   "execution_count": 20,
   "id": "cd88dd56",
   "metadata": {},
   "outputs": [
    {
     "data": {
      "text/plain": [
       "array([1, 0], dtype=int64)"
      ]
     },
     "execution_count": 20,
     "metadata": {},
     "output_type": "execute_result"
    }
   ],
   "source": [
    "dataset[\"fbs\"].unique()"
   ]
  },
  {
   "cell_type": "code",
   "execution_count": 21,
   "id": "8c9675c5",
   "metadata": {},
   "outputs": [
    {
     "data": {
      "text/plain": [
       "array([0, 1, 2], dtype=int64)"
      ]
     },
     "execution_count": 21,
     "metadata": {},
     "output_type": "execute_result"
    }
   ],
   "source": [
    "dataset[\"restecg\"].unique()"
   ]
  },
  {
   "cell_type": "code",
   "execution_count": 22,
   "id": "8fdef572",
   "metadata": {},
   "outputs": [
    {
     "data": {
      "text/plain": [
       "array([0, 1], dtype=int64)"
      ]
     },
     "execution_count": 22,
     "metadata": {},
     "output_type": "execute_result"
    }
   ],
   "source": [
    "dataset[\"exang\"].unique()"
   ]
  },
  {
   "cell_type": "code",
   "execution_count": 23,
   "id": "b2e5a76a",
   "metadata": {},
   "outputs": [
    {
     "data": {
      "text/plain": [
       "array([0, 2, 1], dtype=int64)"
      ]
     },
     "execution_count": 23,
     "metadata": {},
     "output_type": "execute_result"
    }
   ],
   "source": [
    "dataset[\"slope\"].unique()"
   ]
  },
  {
   "cell_type": "code",
   "execution_count": 24,
   "id": "4d618d03",
   "metadata": {},
   "outputs": [],
   "source": [
    "#number of major vessels (0-3) colored by flourosopy"
   ]
  },
  {
   "cell_type": "code",
   "execution_count": 25,
   "id": "e9b8866a",
   "metadata": {},
   "outputs": [
    {
     "data": {
      "text/plain": [
       "array([0, 2, 1, 3, 4], dtype=int64)"
      ]
     },
     "execution_count": 25,
     "metadata": {},
     "output_type": "execute_result"
    }
   ],
   "source": [
    "dataset[\"ca\"].unique()"
   ]
  },
  {
   "cell_type": "code",
   "execution_count": 26,
   "id": "2919f2d5",
   "metadata": {},
   "outputs": [
    {
     "data": {
      "text/plain": [
       "<Axes: ylabel='count'>"
      ]
     },
     "execution_count": 26,
     "metadata": {},
     "output_type": "execute_result"
    },
    {
     "data": {
      "image/png": "[encoded data removed]",
      "text/plain": [
       "<Figure size 640x480 with 1 Axes>"
      ]
     },
     "metadata": {},
     "output_type": "display_data"
    }
   ],
   "source": [
    "sns.countplot(dataset[\"ca\"])"
   ]
  },
  {
   "cell_type": "code",
   "execution_count": 27,
   "id": "11d1f779",
   "metadata": {},
   "outputs": [],
   "source": [
    "### Analysing the 'thal' feature"
   ]
  },
  {
   "cell_type": "code",
   "execution_count": 28,
   "id": "018ce626",
   "metadata": {},
   "outputs": [
    {
     "data": {
      "text/plain": [
       "array([1, 2, 3, 0], dtype=int64)"
      ]
     },
     "execution_count": 28,
     "metadata": {},
     "output_type": "execute_result"
    }
   ],
   "source": [
    "dataset[\"thal\"].unique()"
   ]
  },
  {
   "cell_type": "code",
   "execution_count": 29,
   "id": "542a565f",
   "metadata": {},
   "outputs": [
    {
     "data": {
      "text/plain": [
       "<Axes: xlabel='thal', ylabel='Density'>"
      ]
     },
     "execution_count": 29,
     "metadata": {},
     "output_type": "execute_result"
    },
    {
     "data": {
      "image/png": "[encoded data removed]",
      "text/plain": [
       "<Figure size 640x480 with 1 Axes>"
      ]
     },
     "metadata": {},
     "output_type": "display_data"
    }
   ],
   "source": [
    "sns.distplot(dataset[\"thal\"])"
   ]
  },
  {
   "cell_type": "code",
   "execution_count": 30,
   "id": "c564c4f8",
   "metadata": {},
   "outputs": [],
   "source": [
    "from sklearn.model_selection import train_test_split\n",
    "\n",
    "predictors = dataset.drop(\"target\",axis=1)\n",
    "target = dataset[\"target\"]\n",
    "\n",
    "X_train,X_test,Y_train,Y_test = train_test_split(predictors,target,test_size=0.20,random_state=0)"
   ]
  },
  {
   "cell_type": "code",
   "execution_count": 31,
   "id": "b3726c7e",
   "metadata": {},
   "outputs": [
    {
     "data": {
      "text/plain": [
       "(242, 13)"
      ]
     },
     "execution_count": 31,
     "metadata": {},
     "output_type": "execute_result"
    }
   ],
   "source": [
    "X_train.shape"
   ]
  },
  {
   "cell_type": "code",
   "execution_count": 32,
   "id": "144ddab5",
   "metadata": {},
   "outputs": [
    {
     "data": {
      "text/plain": [
       "(61, 13)"
      ]
     },
     "execution_count": 32,
     "metadata": {},
     "output_type": "execute_result"
    }
   ],
   "source": [
    "X_test.shape"
   ]
  },
  {
   "cell_type": "code",
   "execution_count": 33,
   "id": "3e711e7c",
   "metadata": {},
   "outputs": [
    {
     "data": {
      "text/plain": [
       "(242,)"
      ]
     },
     "execution_count": 33,
     "metadata": {},
     "output_type": "execute_result"
    }
   ],
   "source": [
    "Y_train.shape"
   ]
  },
  {
   "cell_type": "code",
   "execution_count": 34,
   "id": "36f8ce9c",
   "metadata": {},
   "outputs": [
    {
     "data": {
      "text/plain": [
       "(61,)"
      ]
     },
     "execution_count": 34,
     "metadata": {},
     "output_type": "execute_result"
    }
   ],
   "source": [
    "Y_test.shape"
   ]
  },
  {
   "cell_type": "code",
   "execution_count": 35,
   "id": "1c9f70ed",
   "metadata": {},
   "outputs": [],
   "source": [
    "from sklearn.metrics import accuracy_score"
   ]
  },
  {
   "cell_type": "code",
   "execution_count": 36,
   "id": "8ac9b26e",
   "metadata": {},
   "outputs": [],
   "source": [
    "from sklearn.linear_model import LogisticRegression\n",
    "\n",
    "lr = LogisticRegression()\n",
    "\n",
    "lr.fit(X_train,Y_train)\n",
    "\n",
    "Y_pred_lr = lr.predict(X_test)"
   ]
  },
  {
   "cell_type": "code",
   "execution_count": 37,
   "id": "bfbf3fec",
   "metadata": {},
   "outputs": [
    {
     "data": {
      "text/plain": [
       "(61,)"
      ]
     },
     "execution_count": 37,
     "metadata": {},
     "output_type": "execute_result"
    }
   ],
   "source": [
    "Y_pred_lr.shape"
   ]
  },
  {
   "cell_type": "code",
   "execution_count": 38,
   "id": "61abcc38",
   "metadata": {},
   "outputs": [
    {
     "name": "stdout",
     "output_type": "stream",
     "text": [
      "The accuracy score achieved using Logistic Regression is: 85.25 %\n"
     ]
    }
   ],
   "source": [
    "score_lr = round(accuracy_score(Y_pred_lr,Y_test)*100,2)\n",
    "\n",
    "print(\"The accuracy score achieved using Logistic Regression is: \"+str(score_lr)+\" %\")"
   ]
  },
  {
   "cell_type": "code",
   "execution_count": 39,
   "id": "7c2dbd6d",
   "metadata": {},
   "outputs": [],
   "source": [
    "from sklearn.naive_bayes import GaussianNB\n",
    "\n",
    "nb = GaussianNB()\n",
    "\n",
    "nb.fit(X_train,Y_train)\n",
    "\n",
    "Y_pred_nb = nb.predict(X_test)"
   ]
  },
  {
   "cell_type": "code",
   "execution_count": 40,
   "id": "a76113ff",
   "metadata": {},
   "outputs": [
    {
     "data": {
      "text/plain": [
       "(61,)"
      ]
     },
     "execution_count": 40,
     "metadata": {},
     "output_type": "execute_result"
    }
   ],
   "source": [
    "Y_pred_nb.shape"
   ]
  },
  {
   "cell_type": "code",
   "execution_count": 41,
   "id": "49713917",
   "metadata": {},
   "outputs": [
    {
     "name": "stdout",
     "output_type": "stream",
     "text": [
      "The accuracy score achieved using Naive Bayes is: 85.25 %\n"
     ]
    }
   ],
   "source": [
    "score_nb = round(accuracy_score(Y_pred_nb,Y_test)*100,2)\n",
    "\n",
    "print(\"The accuracy score achieved using Naive Bayes is: \"+str(score_nb)+\" %\")"
   ]
  },
  {
   "cell_type": "code",
   "execution_count": 42,
   "id": "fd7b5d2d",
   "metadata": {},
   "outputs": [],
   "source": [
    "from sklearn import svm\n",
    "\n",
    "sv = svm.SVC(kernel='linear')\n",
    "\n",
    "sv.fit(X_train, Y_train)\n",
    "\n",
    "Y_pred_svm = sv.predict(X_test)"
   ]
  },
  {
   "cell_type": "code",
   "execution_count": 43,
   "id": "97317394",
   "metadata": {},
   "outputs": [
    {
     "data": {
      "text/plain": [
       "(61,)"
      ]
     },
     "execution_count": 43,
     "metadata": {},
     "output_type": "execute_result"
    }
   ],
   "source": [
    "Y_pred_svm.shape"
   ]
  },
  {
   "cell_type": "code",
   "execution_count": 44,
   "id": "704d4313",
   "metadata": {},
   "outputs": [
    {
     "name": "stdout",
     "output_type": "stream",
     "text": [
      "The accuracy score achieved using Linear SVM is: 81.97 %\n"
     ]
    }
   ],
   "source": [
    "score_svm = round(accuracy_score(Y_pred_svm,Y_test)*100,2)\n",
    "\n",
    "print(\"The accuracy score achieved using Linear SVM is: \"+str(score_svm)+\" %\")"
   ]
  },
  {
   "cell_type": "code",
   "execution_count": 45,
   "id": "1c0f3138",
   "metadata": {},
   "outputs": [],
   "source": [
    "from sklearn.neighbors import KNeighborsClassifier\n",
    "\n",
    "knn = KNeighborsClassifier(n_neighbors=7)\n",
    "knn.fit(X_train,Y_train)\n",
    "Y_pred_knn=knn.predict(X_test)"
   ]
  },
  {
   "cell_type": "code",
   "execution_count": 46,
   "id": "a11dac23",
   "metadata": {},
   "outputs": [
    {
     "data": {
      "text/plain": [
       "(61,)"
      ]
     },
     "execution_count": 46,
     "metadata": {},
     "output_type": "execute_result"
    }
   ],
   "source": [
    "Y_pred_knn.shape"
   ]
  },
  {
   "cell_type": "code",
   "execution_count": 47,
   "id": "5cc40ee1",
   "metadata": {},
   "outputs": [
    {
     "name": "stdout",
     "output_type": "stream",
     "text": [
      "The accuracy score achieved using KNN is: 67.21 %\n"
     ]
    }
   ],
   "source": [
    "score_knn = round(accuracy_score(Y_pred_knn,Y_test)*100,2)\n",
    "\n",
    "print(\"The accuracy score achieved using KNN is: \"+str(score_knn)+\" %\")"
   ]
  },
  {
   "cell_type": "code",
   "execution_count": 48,
   "id": "affbc8ac",
   "metadata": {},
   "outputs": [],
   "source": [
    "from sklearn.tree import DecisionTreeClassifier\n",
    "\n",
    "max_accuracy = 0\n",
    "\n",
    "\n",
    "for x in range(200):\n",
    "    dt = DecisionTreeClassifier(random_state=x)\n",
    "    dt.fit(X_train,Y_train)\n",
    "    Y_pred_dt = dt.predict(X_test)\n",
    "    current_accuracy = round(accuracy_score(Y_pred_dt,Y_test)*100,2)\n",
    "    if(current_accuracy>max_accuracy):\n",
    "        max_accuracy = current_accuracy\n",
    "        best_x = x\n",
    "        \n",
    "#print(max_accuracy)\n",
    "#print(best_x)\n",
    "\n",
    "\n",
    "dt = DecisionTreeClassifier(random_state=best_x)\n",
    "dt.fit(X_train,Y_train)\n",
    "Y_pred_dt = dt.predict(X_test)"
   ]
  },
  {
   "cell_type": "code",
   "execution_count": 49,
   "id": "3ee1bded",
   "metadata": {},
   "outputs": [
    {
     "name": "stdout",
     "output_type": "stream",
     "text": [
      "(61,)\n"
     ]
    }
   ],
   "source": [
    "print(Y_pred_dt.shape)"
   ]
  },
  {
   "cell_type": "code",
   "execution_count": 50,
   "id": "a60d7a03",
   "metadata": {},
   "outputs": [
    {
     "name": "stdout",
     "output_type": "stream",
     "text": [
      "The accuracy score achieved using Decision Tree is: 81.97 %\n"
     ]
    }
   ],
   "source": [
    "score_dt = round(accuracy_score(Y_pred_dt,Y_test)*100,2)\n",
    "\n",
    "print(\"The accuracy score achieved using Decision Tree is: \"+str(score_dt)+\" %\")"
   ]
  },
  {
   "cell_type": "code",
   "execution_count": 51,
   "id": "db02e538",
   "metadata": {},
   "outputs": [],
   "source": [
    "import xgboost as xgb\n",
    "\n",
    "xgb_model = xgb.XGBClassifier(objective=\"binary:logistic\", random_state=42)\n",
    "xgb_model.fit(X_train, Y_train)\n",
    "\n",
    "Y_pred_xgb = xgb_model.predict(X_test)"
   ]
  },
  {
   "cell_type": "code",
   "execution_count": 52,
   "id": "43f21eaf",
   "metadata": {},
   "outputs": [
    {
     "data": {
      "text/plain": [
       "(61,)"
      ]
     },
     "execution_count": 52,
     "metadata": {},
     "output_type": "execute_result"
    }
   ],
   "source": [
    "Y_pred_xgb.shape"
   ]
  },
  {
   "cell_type": "code",
   "execution_count": 53,
   "id": "3bc203a7",
   "metadata": {},
   "outputs": [
    {
     "name": "stdout",
     "output_type": "stream",
     "text": [
      "The accuracy score achieved using XGBoost is: 78.69 %\n"
     ]
    }
   ],
   "source": [
    "score_xgb = round(accuracy_score(Y_pred_xgb,Y_test)*100,2)\n",
    "\n",
    "print(\"The accuracy score achieved using XGBoost is: \"+str(score_xgb)+\" %\")"
   ]
  },
  {
   "cell_type": "code",
   "execution_count": 54,
   "id": "9c23283e",
   "metadata": {},
   "outputs": [],
   "source": [
    "#Neural Network\n"
   ]
  },
  {
   "cell_type": "code",
   "execution_count": 55,
   "id": "c9152bd0",
   "metadata": {},
   "outputs": [],
   "source": [
    "from keras.models import Sequential\n",
    "from keras.layers import Dense"
   ]
  },
  {
   "cell_type": "code",
   "execution_count": 56,
   "id": "8eaa5da8",
   "metadata": {},
   "outputs": [],
   "source": [
    "\n",
    "model = Sequential()\n",
    "model.add(Dense(11,activation='relu',input_dim=13))\n",
    "model.add(Dense(1,activation='sigmoid'))\n",
    "\n",
    "model.compile(loss='binary_crossentropy',optimizer='adam',metrics=['accuracy'])"
   ]
  },
  {
   "cell_type": "code",
   "execution_count": 57,
   "id": "958264a4",
   "metadata": {},
   "outputs": [
    {
     "name": "stdout",
     "output_type": "stream",
     "text": [
      "Epoch 1/300\n",
      "8/8 [==============================] - 2s 5ms/step - loss: 14.1364 - accuracy: 0.4008\n",
      "Epoch 2/300\n",
      "8/8 [==============================] - 0s 4ms/step - loss: 10.8756 - accuracy: 0.4050\n",
      "Epoch 3/300\n",
      "8/8 [==============================] - 0s 5ms/step - loss: 9.9422 - accuracy: 0.4215\n",
      "Epoch 4/300\n",
      "8/8 [==============================] - 0s 6ms/step - loss: 9.6736 - accuracy: 0.4091\n",
      "Epoch 5/300\n",
      "8/8 [==============================] - 0s 5ms/step - loss: 9.1673 - accuracy: 0.4215\n",
      "Epoch 6/300\n",
      "8/8 [==============================] - 0s 6ms/step - loss: 8.8512 - accuracy: 0.4050\n",
      "Epoch 7/300\n",
      "8/8 [==============================] - 0s 6ms/step - loss: 8.4617 - accuracy: 0.4050\n",
      "Epoch 8/300\n",
      "8/8 [==============================] - 0s 6ms/step - loss: 8.0388 - accuracy: 0.4215\n",
      "Epoch 9/300\n",
      "8/8 [==============================] - 0s 5ms/step - loss: 7.6673 - accuracy: 0.4215\n",
      "Epoch 10/300\n",
      "8/8 [==============================] - 0s 7ms/step - loss: 7.2965 - accuracy: 0.4298\n",
      "Epoch 11/300\n",
      "8/8 [==============================] - 0s 6ms/step - loss: 6.8900 - accuracy: 0.4339\n",
      "Epoch 12/300\n",
      "8/8 [==============================] - 0s 7ms/step - loss: 6.4772 - accuracy: 0.4421\n",
      "Epoch 13/300\n",
      "8/8 [==============================] - 0s 6ms/step - loss: 6.0884 - accuracy: 0.4174\n",
      "Epoch 14/300\n",
      "8/8 [==============================] - 0s 6ms/step - loss: 5.7299 - accuracy: 0.4256\n",
      "Epoch 15/300\n",
      "8/8 [==============================] - 0s 6ms/step - loss: 5.3147 - accuracy: 0.4298\n",
      "Epoch 16/300\n",
      "8/8 [==============================] - 0s 6ms/step - loss: 4.9642 - accuracy: 0.4463\n",
      "Epoch 17/300\n",
      "8/8 [==============================] - 0s 7ms/step - loss: 4.5412 - accuracy: 0.4504\n",
      "Epoch 18/300\n",
      "8/8 [==============================] - 0s 5ms/step - loss: 4.2372 - accuracy: 0.4504\n",
      "Epoch 19/300\n",
      "8/8 [==============================] - 0s 5ms/step - loss: 3.8383 - accuracy: 0.4669\n",
      "Epoch 20/300\n",
      "8/8 [==============================] - 0s 6ms/step - loss: 3.4817 - accuracy: 0.4835\n",
      "Epoch 21/300\n",
      "8/8 [==============================] - 0s 6ms/step - loss: 3.1824 - accuracy: 0.4876\n",
      "Epoch 22/300\n",
      "8/8 [==============================] - 0s 7ms/step - loss: 2.8684 - accuracy: 0.4917\n",
      "Epoch 23/300\n",
      "8/8 [==============================] - 0s 6ms/step - loss: 2.5705 - accuracy: 0.5165\n",
      "Epoch 24/300\n",
      "8/8 [==============================] - 0s 8ms/step - loss: 2.3674 - accuracy: 0.5620\n",
      "Epoch 25/300\n",
      "8/8 [==============================] - 0s 7ms/step - loss: 2.0457 - accuracy: 0.5413\n",
      "Epoch 26/300\n",
      "8/8 [==============================] - 0s 6ms/step - loss: 1.8747 - accuracy: 0.5372\n",
      "Epoch 27/300\n",
      "8/8 [==============================] - 0s 6ms/step - loss: 1.7488 - accuracy: 0.6116\n",
      "Epoch 28/300\n",
      "8/8 [==============================] - 0s 7ms/step - loss: 1.5375 - accuracy: 0.5744\n",
      "Epoch 29/300\n",
      "8/8 [==============================] - 0s 6ms/step - loss: 1.3902 - accuracy: 0.5992\n",
      "Epoch 30/300\n",
      "8/8 [==============================] - 0s 7ms/step - loss: 1.2792 - accuracy: 0.6405\n",
      "Epoch 31/300\n",
      "8/8 [==============================] - 0s 5ms/step - loss: 1.2529 - accuracy: 0.6405\n",
      "Epoch 32/300\n",
      "8/8 [==============================] - 0s 8ms/step - loss: 1.1431 - accuracy: 0.6612\n",
      "Epoch 33/300\n",
      "8/8 [==============================] - 0s 7ms/step - loss: 1.0748 - accuracy: 0.6736\n",
      "Epoch 34/300\n",
      "8/8 [==============================] - 0s 8ms/step - loss: 1.0353 - accuracy: 0.6612\n",
      "Epoch 35/300\n",
      "8/8 [==============================] - 0s 7ms/step - loss: 1.0419 - accuracy: 0.6860\n",
      "Epoch 36/300\n",
      "8/8 [==============================] - 0s 7ms/step - loss: 0.9438 - accuracy: 0.6983\n",
      "Epoch 37/300\n",
      "8/8 [==============================] - 0s 6ms/step - loss: 1.0149 - accuracy: 0.6694\n",
      "Epoch 38/300\n",
      "8/8 [==============================] - 0s 6ms/step - loss: 0.9810 - accuracy: 0.6694\n",
      "Epoch 39/300\n",
      "8/8 [==============================] - 0s 5ms/step - loss: 0.9470 - accuracy: 0.6983\n",
      "Epoch 40/300\n",
      "8/8 [==============================] - 0s 7ms/step - loss: 0.8726 - accuracy: 0.7190\n",
      "Epoch 41/300\n",
      "8/8 [==============================] - 0s 7ms/step - loss: 0.8790 - accuracy: 0.6942\n",
      "Epoch 42/300\n",
      "8/8 [==============================] - 0s 5ms/step - loss: 0.8248 - accuracy: 0.7107\n",
      "Epoch 43/300\n",
      "8/8 [==============================] - 0s 6ms/step - loss: 0.8102 - accuracy: 0.7190\n",
      "Epoch 44/300\n",
      "8/8 [==============================] - 0s 6ms/step - loss: 0.8096 - accuracy: 0.7149\n",
      "Epoch 45/300\n",
      "8/8 [==============================] - 0s 9ms/step - loss: 0.8162 - accuracy: 0.7231\n",
      "Epoch 46/300\n",
      "8/8 [==============================] - 0s 10ms/step - loss: 0.7882 - accuracy: 0.7273\n",
      "Epoch 47/300\n",
      "8/8 [==============================] - 0s 7ms/step - loss: 0.7725 - accuracy: 0.7273\n",
      "Epoch 48/300\n",
      "8/8 [==============================] - 0s 6ms/step - loss: 0.7782 - accuracy: 0.7107\n",
      "Epoch 49/300\n",
      "8/8 [==============================] - 0s 5ms/step - loss: 0.7204 - accuracy: 0.7397\n",
      "Epoch 50/300\n",
      "8/8 [==============================] - 0s 4ms/step - loss: 0.7249 - accuracy: 0.7314\n",
      "Epoch 51/300\n",
      "8/8 [==============================] - 0s 4ms/step - loss: 0.6982 - accuracy: 0.7355\n",
      "Epoch 52/300\n",
      "8/8 [==============================] - 0s 3ms/step - loss: 0.6878 - accuracy: 0.7231\n",
      "Epoch 53/300\n",
      "8/8 [==============================] - 0s 3ms/step - loss: 0.6784 - accuracy: 0.7479\n",
      "Epoch 54/300\n",
      "8/8 [==============================] - 0s 3ms/step - loss: 0.6649 - accuracy: 0.7521\n",
      "Epoch 55/300\n",
      "8/8 [==============================] - 0s 4ms/step - loss: 0.6816 - accuracy: 0.7479\n",
      "Epoch 56/300\n",
      "8/8 [==============================] - 0s 4ms/step - loss: 0.6607 - accuracy: 0.7355\n",
      "Epoch 57/300\n",
      "8/8 [==============================] - 0s 4ms/step - loss: 0.6673 - accuracy: 0.7273\n",
      "Epoch 58/300\n",
      "8/8 [==============================] - 0s 4ms/step - loss: 0.6543 - accuracy: 0.7562\n",
      "Epoch 59/300\n",
      "8/8 [==============================] - 0s 4ms/step - loss: 0.6560 - accuracy: 0.7273\n",
      "Epoch 60/300\n",
      "8/8 [==============================] - 0s 4ms/step - loss: 0.6131 - accuracy: 0.7645\n",
      "Epoch 61/300\n",
      "8/8 [==============================] - 0s 3ms/step - loss: 0.5940 - accuracy: 0.7521\n",
      "Epoch 62/300\n",
      "8/8 [==============================] - 0s 3ms/step - loss: 0.6085 - accuracy: 0.7645\n",
      "Epoch 63/300\n",
      "8/8 [==============================] - 0s 3ms/step - loss: 0.5590 - accuracy: 0.7686\n",
      "Epoch 64/300\n",
      "8/8 [==============================] - 0s 4ms/step - loss: 0.6038 - accuracy: 0.7107\n",
      "Epoch 65/300\n",
      "8/8 [==============================] - 0s 4ms/step - loss: 0.6320 - accuracy: 0.7273\n",
      "Epoch 66/300\n",
      "8/8 [==============================] - 0s 4ms/step - loss: 0.5829 - accuracy: 0.7521\n",
      "Epoch 67/300\n",
      "8/8 [==============================] - 0s 4ms/step - loss: 0.5440 - accuracy: 0.7645\n",
      "Epoch 68/300\n",
      "8/8 [==============================] - 0s 4ms/step - loss: 0.5350 - accuracy: 0.7686\n",
      "Epoch 69/300\n",
      "8/8 [==============================] - 0s 4ms/step - loss: 0.5075 - accuracy: 0.7893\n",
      "Epoch 70/300\n",
      "8/8 [==============================] - 0s 5ms/step - loss: 0.5061 - accuracy: 0.7810\n",
      "Epoch 71/300\n",
      "8/8 [==============================] - 0s 5ms/step - loss: 0.5176 - accuracy: 0.7769\n",
      "Epoch 72/300\n",
      "8/8 [==============================] - 0s 4ms/step - loss: 0.5192 - accuracy: 0.7686\n",
      "Epoch 73/300\n",
      "8/8 [==============================] - 0s 4ms/step - loss: 0.4940 - accuracy: 0.7727\n",
      "Epoch 74/300\n",
      "8/8 [==============================] - 0s 4ms/step - loss: 0.4868 - accuracy: 0.7727\n",
      "Epoch 75/300\n",
      "8/8 [==============================] - 0s 4ms/step - loss: 0.4880 - accuracy: 0.7686\n",
      "Epoch 76/300\n",
      "8/8 [==============================] - 0s 5ms/step - loss: 0.4804 - accuracy: 0.7810\n",
      "Epoch 77/300\n",
      "8/8 [==============================] - 0s 4ms/step - loss: 0.4589 - accuracy: 0.7934\n",
      "Epoch 78/300\n",
      "8/8 [==============================] - 0s 4ms/step - loss: 0.4680 - accuracy: 0.7893\n",
      "Epoch 79/300\n",
      "8/8 [==============================] - 0s 4ms/step - loss: 0.4950 - accuracy: 0.7893\n",
      "Epoch 80/300\n",
      "8/8 [==============================] - 0s 4ms/step - loss: 0.4870 - accuracy: 0.7893\n",
      "Epoch 81/300\n",
      "8/8 [==============================] - 0s 4ms/step - loss: 0.4547 - accuracy: 0.8058\n",
      "Epoch 82/300\n",
      "8/8 [==============================] - 0s 4ms/step - loss: 0.4525 - accuracy: 0.7893\n",
      "Epoch 83/300\n",
      "8/8 [==============================] - 0s 4ms/step - loss: 0.4847 - accuracy: 0.8017\n",
      "Epoch 84/300\n"
     ]
    },
    {
     "name": "stdout",
     "output_type": "stream",
     "text": [
      "8/8 [==============================] - 0s 4ms/step - loss: 0.4418 - accuracy: 0.7975\n",
      "Epoch 85/300\n",
      "8/8 [==============================] - 0s 4ms/step - loss: 0.4317 - accuracy: 0.7893\n",
      "Epoch 86/300\n",
      "8/8 [==============================] - 0s 4ms/step - loss: 0.4206 - accuracy: 0.8058\n",
      "Epoch 87/300\n",
      "8/8 [==============================] - 0s 4ms/step - loss: 0.4320 - accuracy: 0.7810\n",
      "Epoch 88/300\n",
      "8/8 [==============================] - 0s 3ms/step - loss: 0.4252 - accuracy: 0.8017\n",
      "Epoch 89/300\n",
      "8/8 [==============================] - 0s 4ms/step - loss: 0.4248 - accuracy: 0.8058\n",
      "Epoch 90/300\n",
      "8/8 [==============================] - 0s 4ms/step - loss: 0.4403 - accuracy: 0.8017\n",
      "Epoch 91/300\n",
      "8/8 [==============================] - 0s 4ms/step - loss: 0.4525 - accuracy: 0.7893\n",
      "Epoch 92/300\n",
      "8/8 [==============================] - 0s 2ms/step - loss: 0.4270 - accuracy: 0.8182\n",
      "Epoch 93/300\n",
      "8/8 [==============================] - 0s 4ms/step - loss: 0.4133 - accuracy: 0.8182\n",
      "Epoch 94/300\n",
      "8/8 [==============================] - 0s 6ms/step - loss: 0.4395 - accuracy: 0.8017\n",
      "Epoch 95/300\n",
      "8/8 [==============================] - 0s 6ms/step - loss: 0.4201 - accuracy: 0.8306\n",
      "Epoch 96/300\n",
      "8/8 [==============================] - 0s 7ms/step - loss: 0.4070 - accuracy: 0.8058\n",
      "Epoch 97/300\n",
      "8/8 [==============================] - 0s 4ms/step - loss: 0.4042 - accuracy: 0.8182\n",
      "Epoch 98/300\n",
      "8/8 [==============================] - 0s 4ms/step - loss: 0.4046 - accuracy: 0.8264\n",
      "Epoch 99/300\n",
      "8/8 [==============================] - 0s 4ms/step - loss: 0.4056 - accuracy: 0.8140\n",
      "Epoch 100/300\n",
      "8/8 [==============================] - 0s 4ms/step - loss: 0.3962 - accuracy: 0.8182\n",
      "Epoch 101/300\n",
      "8/8 [==============================] - 0s 4ms/step - loss: 0.3987 - accuracy: 0.8140\n",
      "Epoch 102/300\n",
      "8/8 [==============================] - 0s 11ms/step - loss: 0.4106 - accuracy: 0.8264\n",
      "Epoch 103/300\n",
      "8/8 [==============================] - 0s 7ms/step - loss: 0.4456 - accuracy: 0.8223\n",
      "Epoch 104/300\n",
      "8/8 [==============================] - 0s 7ms/step - loss: 0.4086 - accuracy: 0.7934\n",
      "Epoch 105/300\n",
      "8/8 [==============================] - 0s 5ms/step - loss: 0.4315 - accuracy: 0.8223\n",
      "Epoch 106/300\n",
      "8/8 [==============================] - 0s 6ms/step - loss: 0.4043 - accuracy: 0.8347\n",
      "Epoch 107/300\n",
      "8/8 [==============================] - 0s 5ms/step - loss: 0.3884 - accuracy: 0.8512\n",
      "Epoch 108/300\n",
      "8/8 [==============================] - 0s 5ms/step - loss: 0.4552 - accuracy: 0.7934\n",
      "Epoch 109/300\n",
      "8/8 [==============================] - 0s 4ms/step - loss: 0.4502 - accuracy: 0.7851\n",
      "Epoch 110/300\n",
      "8/8 [==============================] - 0s 4ms/step - loss: 0.4423 - accuracy: 0.7727\n",
      "Epoch 111/300\n",
      "8/8 [==============================] - 0s 5ms/step - loss: 0.4081 - accuracy: 0.8140\n",
      "Epoch 112/300\n",
      "8/8 [==============================] - 0s 4ms/step - loss: 0.4271 - accuracy: 0.8099\n",
      "Epoch 113/300\n",
      "8/8 [==============================] - 0s 5ms/step - loss: 0.4018 - accuracy: 0.8306\n",
      "Epoch 114/300\n",
      "8/8 [==============================] - 0s 5ms/step - loss: 0.3835 - accuracy: 0.8306\n",
      "Epoch 115/300\n",
      "8/8 [==============================] - 0s 4ms/step - loss: 0.3820 - accuracy: 0.8347\n",
      "Epoch 116/300\n",
      "8/8 [==============================] - 0s 4ms/step - loss: 0.3830 - accuracy: 0.8223\n",
      "Epoch 117/300\n",
      "8/8 [==============================] - 0s 4ms/step - loss: 0.3816 - accuracy: 0.8306\n",
      "Epoch 118/300\n",
      "8/8 [==============================] - 0s 4ms/step - loss: 0.3910 - accuracy: 0.8388\n",
      "Epoch 119/300\n",
      "8/8 [==============================] - 0s 4ms/step - loss: 0.3967 - accuracy: 0.8223\n",
      "Epoch 120/300\n",
      "8/8 [==============================] - 0s 4ms/step - loss: 0.4061 - accuracy: 0.8223\n",
      "Epoch 121/300\n",
      "8/8 [==============================] - 0s 4ms/step - loss: 0.3922 - accuracy: 0.8430\n",
      "Epoch 122/300\n",
      "8/8 [==============================] - 0s 4ms/step - loss: 0.3891 - accuracy: 0.8388\n",
      "Epoch 123/300\n",
      "8/8 [==============================] - 0s 4ms/step - loss: 0.3751 - accuracy: 0.8347\n",
      "Epoch 124/300\n",
      "8/8 [==============================] - 0s 4ms/step - loss: 0.3761 - accuracy: 0.8306\n",
      "Epoch 125/300\n",
      "8/8 [==============================] - 0s 4ms/step - loss: 0.3865 - accuracy: 0.8140\n",
      "Epoch 126/300\n",
      "8/8 [==============================] - 0s 4ms/step - loss: 0.3762 - accuracy: 0.8347\n",
      "Epoch 127/300\n",
      "8/8 [==============================] - 0s 4ms/step - loss: 0.3848 - accuracy: 0.8388\n",
      "Epoch 128/300\n",
      "8/8 [==============================] - 0s 4ms/step - loss: 0.4093 - accuracy: 0.8140\n",
      "Epoch 129/300\n",
      "8/8 [==============================] - 0s 5ms/step - loss: 0.4110 - accuracy: 0.8017\n",
      "Epoch 130/300\n",
      "8/8 [==============================] - 0s 5ms/step - loss: 0.3974 - accuracy: 0.8182\n",
      "Epoch 131/300\n",
      "8/8 [==============================] - 0s 5ms/step - loss: 0.3773 - accuracy: 0.8306\n",
      "Epoch 132/300\n",
      "8/8 [==============================] - 0s 4ms/step - loss: 0.3812 - accuracy: 0.8347\n",
      "Epoch 133/300\n",
      "8/8 [==============================] - 0s 5ms/step - loss: 0.3985 - accuracy: 0.8223\n",
      "Epoch 134/300\n",
      "8/8 [==============================] - 0s 5ms/step - loss: 0.3885 - accuracy: 0.8388\n",
      "Epoch 135/300\n",
      "8/8 [==============================] - 0s 4ms/step - loss: 0.3851 - accuracy: 0.8471\n",
      "Epoch 136/300\n",
      "8/8 [==============================] - 0s 4ms/step - loss: 0.4263 - accuracy: 0.8099\n",
      "Epoch 137/300\n",
      "8/8 [==============================] - 0s 4ms/step - loss: 0.3737 - accuracy: 0.8388\n",
      "Epoch 138/300\n",
      "8/8 [==============================] - 0s 4ms/step - loss: 0.3797 - accuracy: 0.8388\n",
      "Epoch 139/300\n",
      "8/8 [==============================] - 0s 4ms/step - loss: 0.3811 - accuracy: 0.8430\n",
      "Epoch 140/300\n",
      "8/8 [==============================] - 0s 4ms/step - loss: 0.4128 - accuracy: 0.8058\n",
      "Epoch 141/300\n",
      "8/8 [==============================] - 0s 4ms/step - loss: 0.3868 - accuracy: 0.8182\n",
      "Epoch 142/300\n",
      "8/8 [==============================] - 0s 4ms/step - loss: 0.3726 - accuracy: 0.8471\n",
      "Epoch 143/300\n",
      "8/8 [==============================] - 0s 3ms/step - loss: 0.3677 - accuracy: 0.8471\n",
      "Epoch 144/300\n",
      "8/8 [==============================] - 0s 3ms/step - loss: 0.3837 - accuracy: 0.8512\n",
      "Epoch 145/300\n",
      "8/8 [==============================] - 0s 3ms/step - loss: 0.3800 - accuracy: 0.8140\n",
      "Epoch 146/300\n",
      "8/8 [==============================] - 0s 4ms/step - loss: 0.3875 - accuracy: 0.8306\n",
      "Epoch 147/300\n",
      "8/8 [==============================] - 0s 3ms/step - loss: 0.3764 - accuracy: 0.8388\n",
      "Epoch 148/300\n",
      "8/8 [==============================] - 0s 3ms/step - loss: 0.3863 - accuracy: 0.8182\n",
      "Epoch 149/300\n",
      "8/8 [==============================] - 0s 3ms/step - loss: 0.3906 - accuracy: 0.8182\n",
      "Epoch 150/300\n",
      "8/8 [==============================] - 0s 3ms/step - loss: 0.3817 - accuracy: 0.8264\n",
      "Epoch 151/300\n",
      "8/8 [==============================] - 0s 3ms/step - loss: 0.3760 - accuracy: 0.8306\n",
      "Epoch 152/300\n",
      "8/8 [==============================] - 0s 3ms/step - loss: 0.3783 - accuracy: 0.8471\n",
      "Epoch 153/300\n",
      "8/8 [==============================] - 0s 3ms/step - loss: 0.3871 - accuracy: 0.8388\n",
      "Epoch 154/300\n",
      "8/8 [==============================] - 0s 3ms/step - loss: 0.3699 - accuracy: 0.8430\n",
      "Epoch 155/300\n",
      "8/8 [==============================] - 0s 3ms/step - loss: 0.3669 - accuracy: 0.8347\n",
      "Epoch 156/300\n",
      "8/8 [==============================] - 0s 4ms/step - loss: 0.3759 - accuracy: 0.8347\n",
      "Epoch 157/300\n",
      "8/8 [==============================] - 0s 4ms/step - loss: 0.3693 - accuracy: 0.8471\n",
      "Epoch 158/300\n",
      "8/8 [==============================] - 0s 4ms/step - loss: 0.3747 - accuracy: 0.8430\n",
      "Epoch 159/300\n",
      "8/8 [==============================] - 0s 4ms/step - loss: 0.3676 - accuracy: 0.8554\n",
      "Epoch 160/300\n",
      "8/8 [==============================] - 0s 4ms/step - loss: 0.3695 - accuracy: 0.8430\n",
      "Epoch 161/300\n",
      "8/8 [==============================] - 0s 4ms/step - loss: 0.3682 - accuracy: 0.8471\n",
      "Epoch 162/300\n",
      "8/8 [==============================] - 0s 3ms/step - loss: 0.3722 - accuracy: 0.8430\n",
      "Epoch 163/300\n",
      "8/8 [==============================] - 0s 4ms/step - loss: 0.3710 - accuracy: 0.8388\n",
      "Epoch 164/300\n",
      "8/8 [==============================] - 0s 4ms/step - loss: 0.3755 - accuracy: 0.8140\n",
      "Epoch 165/300\n",
      "8/8 [==============================] - 0s 3ms/step - loss: 0.3818 - accuracy: 0.8140\n",
      "Epoch 166/300\n",
      "8/8 [==============================] - 0s 2ms/step - loss: 0.3802 - accuracy: 0.8430\n",
      "Epoch 167/300\n"
     ]
    },
    {
     "name": "stdout",
     "output_type": "stream",
     "text": [
      "8/8 [==============================] - 0s 3ms/step - loss: 0.3667 - accuracy: 0.8430\n",
      "Epoch 168/300\n",
      "8/8 [==============================] - 0s 3ms/step - loss: 0.3677 - accuracy: 0.8430\n",
      "Epoch 169/300\n",
      "8/8 [==============================] - 0s 3ms/step - loss: 0.3713 - accuracy: 0.8430\n",
      "Epoch 170/300\n",
      "8/8 [==============================] - 0s 3ms/step - loss: 0.3749 - accuracy: 0.8595\n",
      "Epoch 171/300\n",
      "8/8 [==============================] - 0s 4ms/step - loss: 0.3757 - accuracy: 0.8306\n",
      "Epoch 172/300\n",
      "8/8 [==============================] - 0s 3ms/step - loss: 0.3756 - accuracy: 0.8388\n",
      "Epoch 173/300\n",
      "8/8 [==============================] - 0s 3ms/step - loss: 0.3838 - accuracy: 0.8223\n",
      "Epoch 174/300\n",
      "8/8 [==============================] - 0s 3ms/step - loss: 0.3788 - accuracy: 0.8388\n",
      "Epoch 175/300\n",
      "8/8 [==============================] - 0s 3ms/step - loss: 0.3766 - accuracy: 0.8595\n",
      "Epoch 176/300\n",
      "8/8 [==============================] - 0s 3ms/step - loss: 0.3899 - accuracy: 0.8388\n",
      "Epoch 177/300\n",
      "8/8 [==============================] - 0s 4ms/step - loss: 0.4120 - accuracy: 0.8554\n",
      "Epoch 178/300\n",
      "8/8 [==============================] - 0s 3ms/step - loss: 0.4006 - accuracy: 0.7975\n",
      "Epoch 179/300\n",
      "8/8 [==============================] - 0s 3ms/step - loss: 0.4587 - accuracy: 0.7769\n",
      "Epoch 180/300\n",
      "8/8 [==============================] - 0s 3ms/step - loss: 0.4117 - accuracy: 0.8264\n",
      "Epoch 181/300\n",
      "8/8 [==============================] - 0s 3ms/step - loss: 0.3811 - accuracy: 0.8264\n",
      "Epoch 182/300\n",
      "8/8 [==============================] - 0s 3ms/step - loss: 0.3674 - accuracy: 0.8471\n",
      "Epoch 183/300\n",
      "8/8 [==============================] - 0s 3ms/step - loss: 0.3923 - accuracy: 0.8306\n",
      "Epoch 184/300\n",
      "8/8 [==============================] - 0s 3ms/step - loss: 0.3844 - accuracy: 0.8388\n",
      "Epoch 185/300\n",
      "8/8 [==============================] - 0s 3ms/step - loss: 0.3704 - accuracy: 0.8471\n",
      "Epoch 186/300\n",
      "8/8 [==============================] - 0s 3ms/step - loss: 0.3831 - accuracy: 0.8388\n",
      "Epoch 187/300\n",
      "8/8 [==============================] - 0s 3ms/step - loss: 0.3834 - accuracy: 0.8512\n",
      "Epoch 188/300\n",
      "8/8 [==============================] - 0s 3ms/step - loss: 0.3701 - accuracy: 0.8306\n",
      "Epoch 189/300\n",
      "8/8 [==============================] - 0s 3ms/step - loss: 0.3643 - accuracy: 0.8430\n",
      "Epoch 190/300\n",
      "8/8 [==============================] - 0s 3ms/step - loss: 0.3676 - accuracy: 0.8595\n",
      "Epoch 191/300\n",
      "8/8 [==============================] - 0s 2ms/step - loss: 0.3893 - accuracy: 0.8182\n",
      "Epoch 192/300\n",
      "8/8 [==============================] - 0s 3ms/step - loss: 0.3789 - accuracy: 0.8264\n",
      "Epoch 193/300\n",
      "8/8 [==============================] - 0s 3ms/step - loss: 0.3783 - accuracy: 0.8388\n",
      "Epoch 194/300\n",
      "8/8 [==============================] - 0s 3ms/step - loss: 0.3711 - accuracy: 0.8388\n",
      "Epoch 195/300\n",
      "8/8 [==============================] - 0s 3ms/step - loss: 0.3659 - accuracy: 0.8512\n",
      "Epoch 196/300\n",
      "8/8 [==============================] - 0s 3ms/step - loss: 0.3668 - accuracy: 0.8430\n",
      "Epoch 197/300\n",
      "8/8 [==============================] - 0s 3ms/step - loss: 0.3842 - accuracy: 0.8223\n",
      "Epoch 198/300\n",
      "8/8 [==============================] - 0s 3ms/step - loss: 0.3914 - accuracy: 0.8223\n",
      "Epoch 199/300\n",
      "8/8 [==============================] - 0s 3ms/step - loss: 0.3736 - accuracy: 0.8306\n",
      "Epoch 200/300\n",
      "8/8 [==============================] - 0s 3ms/step - loss: 0.3648 - accuracy: 0.8388\n",
      "Epoch 201/300\n",
      "8/8 [==============================] - 0s 3ms/step - loss: 0.3652 - accuracy: 0.8347\n",
      "Epoch 202/300\n",
      "8/8 [==============================] - 0s 3ms/step - loss: 0.3632 - accuracy: 0.8388\n",
      "Epoch 203/300\n",
      "8/8 [==============================] - 0s 3ms/step - loss: 0.3635 - accuracy: 0.8388\n",
      "Epoch 204/300\n",
      "8/8 [==============================] - 0s 3ms/step - loss: 0.3654 - accuracy: 0.8388\n",
      "Epoch 205/300\n",
      "8/8 [==============================] - 0s 3ms/step - loss: 0.3663 - accuracy: 0.8306\n",
      "Epoch 206/300\n",
      "8/8 [==============================] - 0s 4ms/step - loss: 0.3675 - accuracy: 0.8388\n",
      "Epoch 207/300\n",
      "8/8 [==============================] - 0s 3ms/step - loss: 0.3791 - accuracy: 0.8554\n",
      "Epoch 208/300\n",
      "8/8 [==============================] - 0s 3ms/step - loss: 0.3708 - accuracy: 0.8388\n",
      "Epoch 209/300\n",
      "8/8 [==============================] - 0s 3ms/step - loss: 0.3727 - accuracy: 0.8388\n",
      "Epoch 210/300\n",
      "8/8 [==============================] - 0s 3ms/step - loss: 0.3726 - accuracy: 0.8388\n",
      "Epoch 211/300\n",
      "8/8 [==============================] - 0s 3ms/step - loss: 0.3687 - accuracy: 0.8306\n",
      "Epoch 212/300\n",
      "8/8 [==============================] - 0s 4ms/step - loss: 0.3726 - accuracy: 0.8306\n",
      "Epoch 213/300\n",
      "8/8 [==============================] - 0s 3ms/step - loss: 0.3682 - accuracy: 0.8512\n",
      "Epoch 214/300\n",
      "8/8 [==============================] - 0s 3ms/step - loss: 0.3698 - accuracy: 0.8347\n",
      "Epoch 215/300\n",
      "8/8 [==============================] - 0s 3ms/step - loss: 0.3958 - accuracy: 0.8058\n",
      "Epoch 216/300\n",
      "8/8 [==============================] - 0s 4ms/step - loss: 0.3848 - accuracy: 0.8306\n",
      "Epoch 217/300\n",
      "8/8 [==============================] - 0s 3ms/step - loss: 0.3895 - accuracy: 0.8554\n",
      "Epoch 218/300\n",
      "8/8 [==============================] - 0s 4ms/step - loss: 0.4048 - accuracy: 0.8099\n",
      "Epoch 219/300\n",
      "8/8 [==============================] - 0s 3ms/step - loss: 0.4208 - accuracy: 0.8347\n",
      "Epoch 220/300\n",
      "8/8 [==============================] - 0s 3ms/step - loss: 0.3843 - accuracy: 0.8140\n",
      "Epoch 221/300\n",
      "8/8 [==============================] - 0s 3ms/step - loss: 0.3665 - accuracy: 0.8554\n",
      "Epoch 222/300\n",
      "8/8 [==============================] - 0s 3ms/step - loss: 0.3620 - accuracy: 0.8678\n",
      "Epoch 223/300\n",
      "8/8 [==============================] - 0s 3ms/step - loss: 0.3859 - accuracy: 0.8264\n",
      "Epoch 224/300\n",
      "8/8 [==============================] - 0s 3ms/step - loss: 0.3655 - accuracy: 0.8388\n",
      "Epoch 225/300\n",
      "8/8 [==============================] - 0s 4ms/step - loss: 0.3644 - accuracy: 0.8388\n",
      "Epoch 226/300\n",
      "8/8 [==============================] - 0s 4ms/step - loss: 0.3612 - accuracy: 0.8512\n",
      "Epoch 227/300\n",
      "8/8 [==============================] - 0s 4ms/step - loss: 0.3642 - accuracy: 0.8554\n",
      "Epoch 228/300\n",
      "8/8 [==============================] - 0s 3ms/step - loss: 0.3591 - accuracy: 0.8719\n",
      "Epoch 229/300\n",
      "8/8 [==============================] - 0s 3ms/step - loss: 0.3716 - accuracy: 0.8306\n",
      "Epoch 230/300\n",
      "8/8 [==============================] - 0s 3ms/step - loss: 0.3911 - accuracy: 0.8223\n",
      "Epoch 231/300\n",
      "8/8 [==============================] - 0s 3ms/step - loss: 0.3646 - accuracy: 0.8430\n",
      "Epoch 232/300\n",
      "8/8 [==============================] - 0s 3ms/step - loss: 0.3777 - accuracy: 0.8182\n",
      "Epoch 233/300\n",
      "8/8 [==============================] - 0s 3ms/step - loss: 0.3735 - accuracy: 0.8471\n",
      "Epoch 234/300\n",
      "8/8 [==============================] - 0s 3ms/step - loss: 0.3642 - accuracy: 0.8430\n",
      "Epoch 235/300\n",
      "8/8 [==============================] - 0s 3ms/step - loss: 0.3615 - accuracy: 0.8388\n",
      "Epoch 236/300\n",
      "8/8 [==============================] - 0s 4ms/step - loss: 0.3702 - accuracy: 0.8388\n",
      "Epoch 237/300\n",
      "8/8 [==============================] - 0s 4ms/step - loss: 0.3690 - accuracy: 0.8347\n",
      "Epoch 238/300\n",
      "8/8 [==============================] - 0s 3ms/step - loss: 0.3675 - accuracy: 0.8430\n",
      "Epoch 239/300\n",
      "8/8 [==============================] - 0s 3ms/step - loss: 0.4178 - accuracy: 0.8058\n",
      "Epoch 240/300\n",
      "8/8 [==============================] - 0s 4ms/step - loss: 0.3901 - accuracy: 0.8182\n",
      "Epoch 241/300\n",
      "8/8 [==============================] - 0s 4ms/step - loss: 0.3681 - accuracy: 0.8430\n",
      "Epoch 242/300\n",
      "8/8 [==============================] - 0s 3ms/step - loss: 0.3760 - accuracy: 0.8347\n",
      "Epoch 243/300\n",
      "8/8 [==============================] - 0s 3ms/step - loss: 0.3623 - accuracy: 0.8430\n",
      "Epoch 244/300\n",
      "8/8 [==============================] - 0s 3ms/step - loss: 0.4129 - accuracy: 0.8223\n",
      "Epoch 245/300\n",
      "8/8 [==============================] - 0s 3ms/step - loss: 0.4180 - accuracy: 0.8182\n",
      "Epoch 246/300\n",
      "8/8 [==============================] - 0s 4ms/step - loss: 0.3491 - accuracy: 0.8430\n",
      "Epoch 247/300\n",
      "8/8 [==============================] - 0s 3ms/step - loss: 0.3780 - accuracy: 0.8223\n",
      "Epoch 248/300\n",
      "8/8 [==============================] - 0s 4ms/step - loss: 0.3691 - accuracy: 0.8512\n",
      "Epoch 249/300\n"
     ]
    },
    {
     "name": "stdout",
     "output_type": "stream",
     "text": [
      "8/8 [==============================] - 0s 3ms/step - loss: 0.3761 - accuracy: 0.8264\n",
      "Epoch 250/300\n",
      "8/8 [==============================] - 0s 3ms/step - loss: 0.3603 - accuracy: 0.8388\n",
      "Epoch 251/300\n",
      "8/8 [==============================] - 0s 4ms/step - loss: 0.3680 - accuracy: 0.8471\n",
      "Epoch 252/300\n",
      "8/8 [==============================] - 0s 3ms/step - loss: 0.3953 - accuracy: 0.8347\n",
      "Epoch 253/300\n",
      "8/8 [==============================] - 0s 3ms/step - loss: 0.3742 - accuracy: 0.8264\n",
      "Epoch 254/300\n",
      "8/8 [==============================] - 0s 3ms/step - loss: 0.3812 - accuracy: 0.8182\n",
      "Epoch 255/300\n",
      "8/8 [==============================] - 0s 3ms/step - loss: 0.3833 - accuracy: 0.8306\n",
      "Epoch 256/300\n",
      "8/8 [==============================] - 0s 3ms/step - loss: 0.3581 - accuracy: 0.8471\n",
      "Epoch 257/300\n",
      "8/8 [==============================] - 0s 3ms/step - loss: 0.3625 - accuracy: 0.8388\n",
      "Epoch 258/300\n",
      "8/8 [==============================] - 0s 3ms/step - loss: 0.3873 - accuracy: 0.8347\n",
      "Epoch 259/300\n",
      "8/8 [==============================] - 0s 3ms/step - loss: 0.3718 - accuracy: 0.8388\n",
      "Epoch 260/300\n",
      "8/8 [==============================] - 0s 3ms/step - loss: 0.3729 - accuracy: 0.8182\n",
      "Epoch 261/300\n",
      "8/8 [==============================] - 0s 3ms/step - loss: 0.3820 - accuracy: 0.8058\n",
      "Epoch 262/300\n",
      "8/8 [==============================] - 0s 3ms/step - loss: 0.3915 - accuracy: 0.8182\n",
      "Epoch 263/300\n",
      "8/8 [==============================] - 0s 3ms/step - loss: 0.3870 - accuracy: 0.8058\n",
      "Epoch 264/300\n",
      "8/8 [==============================] - 0s 3ms/step - loss: 0.3588 - accuracy: 0.8347\n",
      "Epoch 265/300\n",
      "8/8 [==============================] - 0s 3ms/step - loss: 0.3684 - accuracy: 0.8512\n",
      "Epoch 266/300\n",
      "8/8 [==============================] - 0s 3ms/step - loss: 0.3663 - accuracy: 0.8347\n",
      "Epoch 267/300\n",
      "8/8 [==============================] - 0s 3ms/step - loss: 0.3645 - accuracy: 0.8512\n",
      "Epoch 268/300\n",
      "8/8 [==============================] - 0s 3ms/step - loss: 0.3750 - accuracy: 0.8430\n",
      "Epoch 269/300\n",
      "8/8 [==============================] - 0s 3ms/step - loss: 0.3795 - accuracy: 0.8430\n",
      "Epoch 270/300\n",
      "8/8 [==============================] - 0s 3ms/step - loss: 0.3797 - accuracy: 0.8430\n",
      "Epoch 271/300\n",
      "8/8 [==============================] - 0s 3ms/step - loss: 0.3888 - accuracy: 0.8471\n",
      "Epoch 272/300\n",
      "8/8 [==============================] - 0s 3ms/step - loss: 0.3915 - accuracy: 0.8388\n",
      "Epoch 273/300\n",
      "8/8 [==============================] - 0s 3ms/step - loss: 0.3738 - accuracy: 0.8264\n",
      "Epoch 274/300\n",
      "8/8 [==============================] - 0s 3ms/step - loss: 0.3655 - accuracy: 0.8554\n",
      "Epoch 275/300\n",
      "8/8 [==============================] - 0s 3ms/step - loss: 0.3592 - accuracy: 0.8554\n",
      "Epoch 276/300\n",
      "8/8 [==============================] - 0s 3ms/step - loss: 0.3719 - accuracy: 0.8306\n",
      "Epoch 277/300\n",
      "8/8 [==============================] - 0s 3ms/step - loss: 0.5000 - accuracy: 0.7851\n",
      "Epoch 278/300\n",
      "8/8 [==============================] - 0s 3ms/step - loss: 0.4226 - accuracy: 0.7851\n",
      "Epoch 279/300\n",
      "8/8 [==============================] - 0s 3ms/step - loss: 0.4462 - accuracy: 0.8017\n",
      "Epoch 280/300\n",
      "8/8 [==============================] - 0s 3ms/step - loss: 0.3637 - accuracy: 0.8512\n",
      "Epoch 281/300\n",
      "8/8 [==============================] - 0s 4ms/step - loss: 0.3567 - accuracy: 0.8554\n",
      "Epoch 282/300\n",
      "8/8 [==============================] - 0s 3ms/step - loss: 0.3528 - accuracy: 0.8636\n",
      "Epoch 283/300\n",
      "8/8 [==============================] - 0s 3ms/step - loss: 0.3916 - accuracy: 0.8388\n",
      "Epoch 284/300\n",
      "8/8 [==============================] - 0s 4ms/step - loss: 0.3718 - accuracy: 0.8388\n",
      "Epoch 285/300\n",
      "8/8 [==============================] - 0s 3ms/step - loss: 0.3937 - accuracy: 0.8223\n",
      "Epoch 286/300\n",
      "8/8 [==============================] - 0s 3ms/step - loss: 0.3623 - accuracy: 0.8347\n",
      "Epoch 287/300\n",
      "8/8 [==============================] - 0s 3ms/step - loss: 0.3602 - accuracy: 0.8347\n",
      "Epoch 288/300\n",
      "8/8 [==============================] - 0s 2ms/step - loss: 0.3676 - accuracy: 0.8430\n",
      "Epoch 289/300\n",
      "8/8 [==============================] - 0s 3ms/step - loss: 0.3610 - accuracy: 0.8471\n",
      "Epoch 290/300\n",
      "8/8 [==============================] - 0s 3ms/step - loss: 0.3612 - accuracy: 0.8512\n",
      "Epoch 291/300\n",
      "8/8 [==============================] - 0s 3ms/step - loss: 0.3612 - accuracy: 0.8430\n",
      "Epoch 292/300\n",
      "8/8 [==============================] - 0s 3ms/step - loss: 0.3863 - accuracy: 0.8264\n",
      "Epoch 293/300\n",
      "8/8 [==============================] - 0s 3ms/step - loss: 0.3551 - accuracy: 0.8471\n",
      "Epoch 294/300\n",
      "8/8 [==============================] - 0s 3ms/step - loss: 0.3579 - accuracy: 0.8347\n",
      "Epoch 295/300\n",
      "8/8 [==============================] - 0s 4ms/step - loss: 0.3766 - accuracy: 0.8347\n",
      "Epoch 296/300\n",
      "8/8 [==============================] - 0s 4ms/step - loss: 0.3923 - accuracy: 0.7934\n",
      "Epoch 297/300\n",
      "8/8 [==============================] - 0s 3ms/step - loss: 0.3751 - accuracy: 0.8264\n",
      "Epoch 298/300\n",
      "8/8 [==============================] - 0s 3ms/step - loss: 0.3603 - accuracy: 0.8471\n",
      "Epoch 299/300\n",
      "8/8 [==============================] - 0s 3ms/step - loss: 0.3609 - accuracy: 0.8471\n",
      "Epoch 300/300\n",
      "8/8 [==============================] - 0s 3ms/step - loss: 0.3952 - accuracy: 0.8306\n"
     ]
    },
    {
     "data": {
      "text/plain": [
       "<keras.callbacks.History at 0x1cd7b381810>"
      ]
     },
     "execution_count": 57,
     "metadata": {},
     "output_type": "execute_result"
    }
   ],
   "source": [
    "model.fit(X_train,Y_train,epochs=300)"
   ]
  },
  {
   "cell_type": "code",
   "execution_count": 58,
   "id": "6c747b96",
   "metadata": {},
   "outputs": [
    {
     "name": "stdout",
     "output_type": "stream",
     "text": [
      "2/2 [==============================] - 0s 5ms/step\n"
     ]
    }
   ],
   "source": [
    "Y_pred_nn = model.predict(X_test)"
   ]
  },
  {
   "cell_type": "code",
   "execution_count": 59,
   "id": "f87127c1",
   "metadata": {},
   "outputs": [
    {
     "data": {
      "text/plain": [
       "(61, 1)"
      ]
     },
     "execution_count": 59,
     "metadata": {},
     "output_type": "execute_result"
    }
   ],
   "source": [
    "Y_pred_nn.shape"
   ]
  },
  {
   "cell_type": "code",
   "execution_count": 60,
   "id": "9ddb111b",
   "metadata": {},
   "outputs": [],
   "source": [
    "rounded = [round(x[0]) for x in Y_pred_nn]\n",
    "\n",
    "Y_pred_nn = rounded"
   ]
  },
  {
   "cell_type": "code",
   "execution_count": 61,
   "id": "6ca0b32a",
   "metadata": {},
   "outputs": [
    {
     "name": "stdout",
     "output_type": "stream",
     "text": [
      "The accuracy score achieved using Neural Network is: 80.33 %\n"
     ]
    }
   ],
   "source": [
    "score_nn = round(accuracy_score(Y_pred_nn,Y_test)*100,2)\n",
    "\n",
    "print(\"The accuracy score achieved using Neural Network is: \"+str(score_nn)+\" %\")\n",
    "\n",
    "#Note: Accuracy of 85% can be achieved on the test set, by setting epochs=2000, and number of nodes = 11. "
   ]
  },
  {
   "cell_type": "code",
   "execution_count": 62,
   "id": "4983f11d",
   "metadata": {},
   "outputs": [
    {
     "name": "stdout",
     "output_type": "stream",
     "text": [
      "The accuracy score achieved using Logistic Regression is: 85.25 %\n",
      "The accuracy score achieved using Naive Bayes is: 85.25 %\n",
      "The accuracy score achieved using Support Vector Machine is: 81.97 %\n",
      "The accuracy score achieved using K-Nearest Neighbors is: 67.21 %\n",
      "The accuracy score achieved using Decision Tree is: 81.97 %\n",
      "The accuracy score achieved using XGBoost is: 78.69 %\n",
      "The accuracy score achieved using Neural Network is: 80.33 %\n"
     ]
    }
   ],
   "source": [
    "scores = [score_lr,score_nb,score_svm,score_knn,score_dt,score_xgb,score_nn]\n",
    "algorithms = [\"Logistic Regression\",\"Naive Bayes\",\"Support Vector Machine\",\"K-Nearest Neighbors\",\"Decision Tree\",\"XGBoost\",\"Neural Network\"]    \n",
    "\n",
    "for i in range(len(algorithms)):\n",
    "    print(\"The accuracy score achieved using \"+algorithms[i]+\" is: \"+str(scores[i])+\" %\")"
   ]
  },
  {
   "cell_type": "code",
   "execution_count": 63,
   "id": "d565ade3",
   "metadata": {},
   "outputs": [],
   "source": [
    "from sklearn.tree import DecisionTreeClassifier"
   ]
  },
  {
   "cell_type": "code",
   "execution_count": 64,
   "id": "0f1e212d",
   "metadata": {},
   "outputs": [
    {
     "data": {
      "text/html": [
       "<style>#sk-container-id-1 {color: black;background-color: white;}#sk-container-id-1 pre{padding: 0;}#sk-container-id-1 div.sk-toggleable {background-color: white;}#sk-container-id-1 label.sk-toggleable__label {cursor: pointer;display: block;width: 100%;margin-bottom: 0;padding: 0.3em;box-sizing: border-box;text-align: center;}#sk-container-id-1 label.sk-toggleable__label-arrow:before {content: \"▸\";float: left;margin-right: 0.25em;color: #696969;}#sk-container-id-1 label.sk-toggleable__label-arrow:hover:before {color: black;}#sk-container-id-1 div.sk-estimator:hover label.sk-toggleable__label-arrow:before {color: black;}#sk-container-id-1 div.sk-toggleable__content {max-height: 0;max-width: 0;overflow: hidden;text-align: left;background-color: #f0f8ff;}#sk-container-id-1 div.sk-toggleable__content pre {margin: 0.2em;color: black;border-radius: 0.25em;background-color: #f0f8ff;}#sk-container-id-1 input.sk-toggleable__control:checked~div.sk-toggleable__content {max-height: 200px;max-width: 100%;overflow: auto;}#sk-container-id-1 input.sk-toggleable__control:checked~label.sk-toggleable__label-arrow:before {content: \"▾\";}#sk-container-id-1 div.sk-estimator input.sk-toggleable__control:checked~label.sk-toggleable__label {background-color: #d4ebff;}#sk-container-id-1 div.sk-label input.sk-toggleable__control:checked~label.sk-toggleable__label {background-color: #d4ebff;}#sk-container-id-1 input.sk-hidden--visually {border: 0;clip: rect(1px 1px 1px 1px);clip: rect(1px, 1px, 1px, 1px);height: 1px;margin: -1px;overflow: hidden;padding: 0;position: absolute;width: 1px;}#sk-container-id-1 div.sk-estimator {font-family: monospace;background-color: #f0f8ff;border: 1px dotted black;border-radius: 0.25em;box-sizing: border-box;margin-bottom: 0.5em;}#sk-container-id-1 div.sk-estimator:hover {background-color: #d4ebff;}#sk-container-id-1 div.sk-parallel-item::after {content: \"\";width: 100%;border-bottom: 1px solid gray;flex-grow: 1;}#sk-container-id-1 div.sk-label:hover label.sk-toggleable__label {background-color: #d4ebff;}#sk-container-id-1 div.sk-serial::before {content: \"\";position: absolute;border-left: 1px solid gray;box-sizing: border-box;top: 0;bottom: 0;left: 50%;z-index: 0;}#sk-container-id-1 div.sk-serial {display: flex;flex-direction: column;align-items: center;background-color: white;padding-right: 0.2em;padding-left: 0.2em;position: relative;}#sk-container-id-1 div.sk-item {position: relative;z-index: 1;}#sk-container-id-1 div.sk-parallel {display: flex;align-items: stretch;justify-content: center;background-color: white;position: relative;}#sk-container-id-1 div.sk-item::before, #sk-container-id-1 div.sk-parallel-item::before {content: \"\";position: absolute;border-left: 1px solid gray;box-sizing: border-box;top: 0;bottom: 0;left: 50%;z-index: -1;}#sk-container-id-1 div.sk-parallel-item {display: flex;flex-direction: column;z-index: 1;position: relative;background-color: white;}#sk-container-id-1 div.sk-parallel-item:first-child::after {align-self: flex-end;width: 50%;}#sk-container-id-1 div.sk-parallel-item:last-child::after {align-self: flex-start;width: 50%;}#sk-container-id-1 div.sk-parallel-item:only-child::after {width: 0;}#sk-container-id-1 div.sk-dashed-wrapped {border: 1px dashed gray;margin: 0 0.4em 0.5em 0.4em;box-sizing: border-box;padding-bottom: 0.4em;background-color: white;}#sk-container-id-1 div.sk-label label {font-family: monospace;font-weight: bold;display: inline-block;line-height: 1.2em;}#sk-container-id-1 div.sk-label-container {text-align: center;}#sk-container-id-1 div.sk-container {/* jupyter's `normalize.less` sets `[hidden] { display: none; }` but bootstrap.min.css set `[hidden] { display: none !important; }` so we also need the `!important` here to be able to override the default hidden behavior on the sphinx rendered scikit-learn.org. See: https://github.com/scikit-learn/scikit-learn/issues/21755 */display: inline-block !important;position: relative;}#sk-container-id-1 div.sk-text-repr-fallback {display: none;}</style><div id=\"sk-container-id-1\" class=\"sk-top-container\"><div class=\"sk-text-repr-fallback\"><pre>DecisionTreeClassifier()</pre><b>In a Jupyter environment, please rerun this cell to show the HTML representation or trust the notebook. <br />On GitHub, the HTML representation is unable to render, please try loading this page with nbviewer.org.</b></div><div class=\"sk-container\" hidden><div class=\"sk-item\"><div class=\"sk-estimator sk-toggleable\"><input class=\"sk-toggleable__control sk-hidden--visually\" id=\"sk-estimator-id-1\" type=\"checkbox\" checked><label for=\"sk-estimator-id-1\" class=\"sk-toggleable__label sk-toggleable__label-arrow\">DecisionTreeClassifier</label><div class=\"sk-toggleable__content\"><pre>DecisionTreeClassifier()</pre></div></div></div></div></div>"
      ],
      "text/plain": [
       "DecisionTreeClassifier()"
      ]
     },
     "execution_count": 64,
     "metadata": {},
     "output_type": "execute_result"
    }
   ],
   "source": [
    "dt = DecisionTreeClassifier()\n",
    "dt.fit(X_train,Y_train)\n"
   ]
  },
  {
   "cell_type": "code",
   "execution_count": 65,
   "id": "9223c7b1",
   "metadata": {},
   "outputs": [],
   "source": [
    "import pandas as pd"
   ]
  },
  {
   "cell_type": "code",
   "execution_count": 66,
   "id": "0ff1b7a0",
   "metadata": {},
   "outputs": [],
   "source": [
    "new_data = pd.DataFrame({\n",
    "    'age':52,\n",
    "    'sex':1,\n",
    "    'cp':0,\n",
    "    'trestbps':125,\n",
    "    'chol':212,\n",
    "    'fbs':0,\n",
    "    'restecg':1,\n",
    "    'thalach':168,\n",
    "    'exang':0,\n",
    "    'oldpeak':1.0,\n",
    "    'slope':2,\n",
    "    'ca':2,\n",
    "    'thal':3,\n",
    "},index=[0])"
   ]
  },
  {
   "cell_type": "code",
   "execution_count": 67,
   "id": "0556c78c",
   "metadata": {},
   "outputs": [
    {
     "data": {
      "text/html": [
       "<div>\n",
       "<style scoped>\n",
       "    .dataframe tbody tr th:only-of-type {\n",
       "        vertical-align: middle;\n",
       "    }\n",
       "\n",
       "    .dataframe tbody tr th {\n",
       "        vertical-align: top;\n",
       "    }\n",
       "\n",
       "    .dataframe thead th {\n",
       "        text-align: right;\n",
       "    }\n",
       "</style>\n",
       "<table border=\"1\" class=\"dataframe\">\n",
       "  <thead>\n",
       "    <tr style=\"text-align: right;\">\n",
       "      <th></th>\n",
       "      <th>age</th>\n",
       "      <th>sex</th>\n",
       "      <th>cp</th>\n",
       "      <th>trestbps</th>\n",
       "      <th>chol</th>\n",
       "      <th>fbs</th>\n",
       "      <th>restecg</th>\n",
       "      <th>thalach</th>\n",
       "      <th>exang</th>\n",
       "      <th>oldpeak</th>\n",
       "      <th>slope</th>\n",
       "      <th>ca</th>\n",
       "      <th>thal</th>\n",
       "    </tr>\n",
       "  </thead>\n",
       "  <tbody>\n",
       "    <tr>\n",
       "      <th>0</th>\n",
       "      <td>52</td>\n",
       "      <td>1</td>\n",
       "      <td>0</td>\n",
       "      <td>125</td>\n",
       "      <td>212</td>\n",
       "      <td>0</td>\n",
       "      <td>1</td>\n",
       "      <td>168</td>\n",
       "      <td>0</td>\n",
       "      <td>1.0</td>\n",
       "      <td>2</td>\n",
       "      <td>2</td>\n",
       "      <td>3</td>\n",
       "    </tr>\n",
       "  </tbody>\n",
       "</table>\n",
       "</div>"
      ],
      "text/plain": [
       "   age  sex  cp  trestbps  chol  fbs  restecg  thalach  exang  oldpeak  slope  \\\n",
       "0   52    1   0       125   212    0        1      168      0      1.0      2   \n",
       "\n",
       "   ca  thal  \n",
       "0   2     3  "
      ]
     },
     "execution_count": 67,
     "metadata": {},
     "output_type": "execute_result"
    }
   ],
   "source": [
    "new_data"
   ]
  },
  {
   "cell_type": "code",
   "execution_count": 68,
   "id": "99019cfb",
   "metadata": {},
   "outputs": [
    {
     "name": "stdout",
     "output_type": "stream",
     "text": [
      "No Heart Disease\n"
     ]
    }
   ],
   "source": [
    "p = dt.predict(new_data)\n",
    "if p[0]==0:\n",
    "    print(\"No Heart Disease\")\n",
    "else:  \n",
    "    print(\"Heart Disease\")"
   ]
  },
  {
   "cell_type": "code",
   "execution_count": 69,
   "id": "6f2b60a9",
   "metadata": {},
   "outputs": [],
   "source": [
    "import joblib"
   ]
  },
  {
   "cell_type": "code",
   "execution_count": 70,
   "id": "ec66ad8a",
   "metadata": {},
   "outputs": [
    {
     "data": {
      "text/plain": [
       "['model_joblib_heart']"
      ]
     },
     "execution_count": 70,
     "metadata": {},
     "output_type": "execute_result"
    }
   ],
   "source": [
    "joblib.dump(dt,'model_joblib_heart')"
   ]
  },
  {
   "cell_type": "code",
   "execution_count": 71,
   "id": "0d76da13",
   "metadata": {},
   "outputs": [],
   "source": [
    "model = joblib.load('model_joblib_heart')"
   ]
  },
  {
   "cell_type": "code",
   "execution_count": 72,
   "id": "19d54ae2",
   "metadata": {},
   "outputs": [
    {
     "data": {
      "text/plain": [
       "array([0], dtype=int64)"
      ]
     },
     "execution_count": 72,
     "metadata": {},
     "output_type": "execute_result"
    }
   ],
   "source": [
    "model.predict(new_data)"
   ]
  },
  {
   "cell_type": "code",
   "execution_count": 73,
   "id": "1cf75f4b",
   "metadata": {},
   "outputs": [],
   "source": [
    "from tkinter import*\n",
    "import joblib"
   ]
  },
  {
   "cell_type": "code",
   "execution_count": 74,
   "id": "95a1b6fc",
   "metadata": {},
   "outputs": [],
   "source": [
    "def show_entry_fields():\n",
    "    p1=int (e1.get())\n",
    "    p2=int (e2.get())\n",
    "    p3=int (e3.get())\n",
    "    p4=int (e4.get())\n",
    "    p5=int (e5.get())\n",
    "    p6=int (e6.get())\n",
    "    p7=int (e7.get())\n",
    "    p8=int (e8.get())\n",
    "    p9=int (e9.get())\n",
    "    p10=float (e10.get())\n",
    "    p11=int (e11.get())\n",
    "    p12=int (e12.get())\n",
    "    p13=int (e13.get())\n",
    "    model=joblib.load('model_joblib_heart')\n",
    "    result=model.predict([[p1, p2, p3,p4, p5, p6, p7, p8, p8, p10, p11, p12,p13]])\n",
    "                          \n",
    "    if result == 0:\n",
    "        Label (master, text=\"No Heart Diseases\").grid (row=31)\n",
    "    else:\n",
    "        Label (master, text=\"Possibility of Heart Diseases\").grid (row=31)\n",
    "                          \n",
    "master=Tk ()\n",
    "master.title(\"Heart Diseases Prediction System\") \n",
    "                          \n",
    "\n",
    "label=Label (master, text = \"Heart Diseases Prediction System\"\n",
    "               , bg=\"black\", fg = \"white\"). \\\n",
    "                          grid (row=0, columnspan=2)\n",
    "\n",
    "Label (master, text=\"Enter Your Age\").grid (row=1)\n",
    "Label (master, text=\"Male Or Female [1/0]\").grid (row=2)\n",
    "Label (master, text=\"Enter Value of CP\").grid (row=3)\n",
    "Label (master, text=\"Enter Value of trestbps\").grid (row=4)\n",
    "Label (master, text=\"Enter Value of chol\").grid (row=5)\n",
    "Label (master, text=\"Enter Value of fbs\").grid (row=6)        \n",
    "Label (master, text=\"Enter Value of restecg\").grid (row=7)\n",
    "Label (master, text=\"Enter Value of thalach\").grid (row=8) \n",
    "Label (master, text=\"Enter Value of exang\").grid (row=9)\n",
    "Label (master, text=\"Enter Value of oldpeak\").grid (row=10)\n",
    "Label (master, text=\"Enter Value of slope\").grid (row=11)\n",
    "Label (master, text=\"Enter Value of ca\").grid (row=12)\n",
    "Label (master, text=\"Enter Value of thal\").grid (row=13) \n",
    "\n",
    "e1=Entry(master)\n",
    "e2=Entry(master)\n",
    "e3=Entry(master)\n",
    "e4=Entry(master)\n",
    "e5=Entry(master)\n",
    "e6=Entry(master)\n",
    "e7=Entry(master)\n",
    "e8=Entry(master)\n",
    "e9=Entry(master)\n",
    "e10=Entry(master)\n",
    "e11=Entry(master)\n",
    "e12=Entry(master)\n",
    "e13=Entry(master)\n",
    "\n",
    "e1.grid(row=1, column=1)\n",
    "e2.grid(row=2, column=1)\n",
    "e3.grid(row=3, column=1)\n",
    "e4.grid(row=4, column=1)\n",
    "e5.grid(row=5, column=1)\n",
    "e6.grid(row=6, column=1)\n",
    "e7.grid(row=7, column=1)\n",
    "e8.grid(row=8, column=1)\n",
    "e9.grid(row=9, column=1)\n",
    "e10.grid(row=10, column=1)\n",
    "e11.grid(row=11, column=1)\n",
    "e12.grid(row=12, column=1)\n",
    "e13.grid(row=13, column=1)\n",
    "\n",
    "\n",
    "Button(master, text='predict', command=show_entry_fields).grid()\n",
    "\n",
    "mainloop()"
   ]
  },
  {
   "cell_type": "code",
   "execution_count": null,
   "id": "cb4d1211",
   "metadata": {},
   "outputs": [],
   "source": []
  },
  {
   "cell_type": "code",
   "execution_count": null,
   "id": "82966d6e",
   "metadata": {},
   "outputs": [],
   "source": []
  }
 ],
 "metadata": {
  "kernelspec": {
   "display_name": "Python 3 (ipykernel)",
   "language": "python",
   "name": "python3"
  },
  "language_info": {
   "codemirror_mode": {
    "name": "ipython",
    "version": 3
   },
   "file_extension": ".py",
   "mimetype": "text/x-python",
   "name": "python",
   "nbconvert_exporter": "python",
   "pygments_lexer": "ipython3",
   "version": "3.10.10"
  }
 },
 "nbformat": 4,
 "nbformat_minor": 5
}
